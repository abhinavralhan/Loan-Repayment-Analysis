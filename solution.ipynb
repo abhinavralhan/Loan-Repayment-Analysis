{
 "cells": [
  {
   "cell_type": "markdown",
   "metadata": {},
   "source": [
    "## Importing the necessary libraries"
   ]
  },
  {
   "cell_type": "code",
   "execution_count": 187,
   "metadata": {},
   "outputs": [],
   "source": [
    "import numpy as np \n",
    "import pandas as pd \n",
    "import matplotlib.pyplot as plt\n",
    "%matplotlib inline\n",
    "import seaborn as sns\n",
    "import warnings\n",
    "warnings.filterwarnings('ignore')"
   ]
  },
  {
   "cell_type": "markdown",
   "metadata": {},
   "source": [
    "## Importing Data"
   ]
  },
  {
   "cell_type": "code",
   "execution_count": 188,
   "metadata": {},
   "outputs": [],
   "source": [
    "credit = pd.read_csv('final_datasets/credit_data.csv')\n",
    "cycles = pd.read_csv('final_datasets/cycles.csv')\n",
    "failure = pd.read_csv('final_datasets/failure_events_data.csv')\n",
    "settlements = pd.read_csv('final_datasets/settlements_data.csv')\n",
    "test = pd.read_csv('final_datasets/test.csv')\n",
    "transactions = pd.read_csv('final_datasets/transactions_data.csv')\n",
    "users = pd.read_csv('final_datasets/users_data.csv')"
   ]
  },
  {
   "cell_type": "markdown",
   "metadata": {},
   "source": [
    "## Learning about data using .sample(), .info(), .describe(), .isnull().sum()"
   ]
  },
  {
   "cell_type": "markdown",
   "metadata": {},
   "source": [
    "sample(n) -> Shows 'n' random rows present in dataset\n",
    "\n",
    "info() -> Describes data types present, number of rows, number of columns, memory usage of dataset\n",
    "\n",
    "describe() -> Generates descriptive statistics that summarize the central tendency, dispersion and shape of a dataset’s distribution, excluding NaN values.\n",
    "\n",
    "isnull().sum() -> Shows number of NaN values present in each column in the DataFrame\n",
    "\n",
    "#### Comment : This part is quite lengthy as it consists of understanding all the datasets, so you might want to skip this if you only want to see the visualizations / application of machine learning."
   ]
  },
  {
   "cell_type": "code",
   "execution_count": 4,
   "metadata": {},
   "outputs": [
    {
     "data": {
      "text/html": [
       "<div>\n",
       "<style scoped>\n",
       "    .dataframe tbody tr th:only-of-type {\n",
       "        vertical-align: middle;\n",
       "    }\n",
       "\n",
       "    .dataframe tbody tr th {\n",
       "        vertical-align: top;\n",
       "    }\n",
       "\n",
       "    .dataframe thead th {\n",
       "        text-align: right;\n",
       "    }\n",
       "</style>\n",
       "<table border=\"1\" class=\"dataframe\">\n",
       "  <thead>\n",
       "    <tr style=\"text-align: right;\">\n",
       "      <th></th>\n",
       "      <th>user_id</th>\n",
       "      <th>cycle_id</th>\n",
       "      <th>global_credit_limit</th>\n",
       "    </tr>\n",
       "  </thead>\n",
       "  <tbody>\n",
       "    <tr>\n",
       "      <th>17162</th>\n",
       "      <td>8322</td>\n",
       "      <td>14</td>\n",
       "      <td>75000</td>\n",
       "    </tr>\n",
       "    <tr>\n",
       "      <th>12403</th>\n",
       "      <td>6588</td>\n",
       "      <td>10</td>\n",
       "      <td>150000</td>\n",
       "    </tr>\n",
       "    <tr>\n",
       "      <th>2611</th>\n",
       "      <td>9532</td>\n",
       "      <td>14</td>\n",
       "      <td>75000</td>\n",
       "    </tr>\n",
       "    <tr>\n",
       "      <th>6812</th>\n",
       "      <td>4111</td>\n",
       "      <td>18</td>\n",
       "      <td>150000</td>\n",
       "    </tr>\n",
       "    <tr>\n",
       "      <th>18012</th>\n",
       "      <td>4323</td>\n",
       "      <td>9</td>\n",
       "      <td>150000</td>\n",
       "    </tr>\n",
       "    <tr>\n",
       "      <th>5137</th>\n",
       "      <td>4764</td>\n",
       "      <td>10</td>\n",
       "      <td>150000</td>\n",
       "    </tr>\n",
       "    <tr>\n",
       "      <th>11916</th>\n",
       "      <td>11183</td>\n",
       "      <td>19</td>\n",
       "      <td>150000</td>\n",
       "    </tr>\n",
       "  </tbody>\n",
       "</table>\n",
       "</div>"
      ],
      "text/plain": [
       "       user_id  cycle_id  global_credit_limit\n",
       "17162     8322        14                75000\n",
       "12403     6588        10               150000\n",
       "2611      9532        14                75000\n",
       "6812      4111        18               150000\n",
       "18012     4323         9               150000\n",
       "5137      4764        10               150000\n",
       "11916    11183        19               150000"
      ]
     },
     "execution_count": 4,
     "metadata": {},
     "output_type": "execute_result"
    }
   ],
   "source": [
    "credit.sample(7)"
   ]
  },
  {
   "cell_type": "code",
   "execution_count": 5,
   "metadata": {},
   "outputs": [
    {
     "name": "stdout",
     "output_type": "stream",
     "text": [
      "<class 'pandas.core.frame.DataFrame'>\n",
      "RangeIndex: 18468 entries, 0 to 18467\n",
      "Data columns (total 3 columns):\n",
      "user_id                18468 non-null int64\n",
      "cycle_id               18468 non-null int64\n",
      "global_credit_limit    18468 non-null int64\n",
      "dtypes: int64(3)\n",
      "memory usage: 432.9 KB\n"
     ]
    }
   ],
   "source": [
    "credit.info()"
   ]
  },
  {
   "cell_type": "code",
   "execution_count": 6,
   "metadata": {},
   "outputs": [
    {
     "data": {
      "text/html": [
       "<div>\n",
       "<style scoped>\n",
       "    .dataframe tbody tr th:only-of-type {\n",
       "        vertical-align: middle;\n",
       "    }\n",
       "\n",
       "    .dataframe tbody tr th {\n",
       "        vertical-align: top;\n",
       "    }\n",
       "\n",
       "    .dataframe thead th {\n",
       "        text-align: right;\n",
       "    }\n",
       "</style>\n",
       "<table border=\"1\" class=\"dataframe\">\n",
       "  <thead>\n",
       "    <tr style=\"text-align: right;\">\n",
       "      <th></th>\n",
       "      <th>user_id</th>\n",
       "      <th>cycle_id</th>\n",
       "      <th>global_credit_limit</th>\n",
       "    </tr>\n",
       "  </thead>\n",
       "  <tbody>\n",
       "    <tr>\n",
       "      <th>count</th>\n",
       "      <td>18468.000000</td>\n",
       "      <td>18468.000000</td>\n",
       "      <td>18468.000000</td>\n",
       "    </tr>\n",
       "    <tr>\n",
       "      <th>mean</th>\n",
       "      <td>8067.809129</td>\n",
       "      <td>14.217295</td>\n",
       "      <td>126512.887156</td>\n",
       "    </tr>\n",
       "    <tr>\n",
       "      <th>std</th>\n",
       "      <td>4362.935645</td>\n",
       "      <td>4.649221</td>\n",
       "      <td>65312.491560</td>\n",
       "    </tr>\n",
       "    <tr>\n",
       "      <th>min</th>\n",
       "      <td>1.000000</td>\n",
       "      <td>2.000000</td>\n",
       "      <td>50000.000000</td>\n",
       "    </tr>\n",
       "    <tr>\n",
       "      <th>25%</th>\n",
       "      <td>4284.750000</td>\n",
       "      <td>10.000000</td>\n",
       "      <td>75000.000000</td>\n",
       "    </tr>\n",
       "    <tr>\n",
       "      <th>50%</th>\n",
       "      <td>8436.500000</td>\n",
       "      <td>15.000000</td>\n",
       "      <td>150000.000000</td>\n",
       "    </tr>\n",
       "    <tr>\n",
       "      <th>75%</th>\n",
       "      <td>11720.250000</td>\n",
       "      <td>18.000000</td>\n",
       "      <td>150000.000000</td>\n",
       "    </tr>\n",
       "    <tr>\n",
       "      <th>max</th>\n",
       "      <td>16045.000000</td>\n",
       "      <td>22.000000</td>\n",
       "      <td>1000000.000000</td>\n",
       "    </tr>\n",
       "  </tbody>\n",
       "</table>\n",
       "</div>"
      ],
      "text/plain": [
       "            user_id      cycle_id  global_credit_limit\n",
       "count  18468.000000  18468.000000         18468.000000\n",
       "mean    8067.809129     14.217295        126512.887156\n",
       "std     4362.935645      4.649221         65312.491560\n",
       "min        1.000000      2.000000         50000.000000\n",
       "25%     4284.750000     10.000000         75000.000000\n",
       "50%     8436.500000     15.000000        150000.000000\n",
       "75%    11720.250000     18.000000        150000.000000\n",
       "max    16045.000000     22.000000       1000000.000000"
      ]
     },
     "execution_count": 6,
     "metadata": {},
     "output_type": "execute_result"
    }
   ],
   "source": [
    "credit.describe()"
   ]
  },
  {
   "cell_type": "code",
   "execution_count": 7,
   "metadata": {},
   "outputs": [
    {
     "data": {
      "text/plain": [
       "user_id                0\n",
       "cycle_id               0\n",
       "global_credit_limit    0\n",
       "dtype: int64"
      ]
     },
     "execution_count": 7,
     "metadata": {},
     "output_type": "execute_result"
    }
   ],
   "source": [
    "credit.isnull().sum()"
   ]
  },
  {
   "cell_type": "code",
   "execution_count": 8,
   "metadata": {},
   "outputs": [
    {
     "data": {
      "text/html": [
       "<div>\n",
       "<style scoped>\n",
       "    .dataframe tbody tr th:only-of-type {\n",
       "        vertical-align: middle;\n",
       "    }\n",
       "\n",
       "    .dataframe tbody tr th {\n",
       "        vertical-align: top;\n",
       "    }\n",
       "\n",
       "    .dataframe thead th {\n",
       "        text-align: right;\n",
       "    }\n",
       "</style>\n",
       "<table border=\"1\" class=\"dataframe\">\n",
       "  <thead>\n",
       "    <tr style=\"text-align: right;\">\n",
       "      <th></th>\n",
       "      <th>cycle_id</th>\n",
       "      <th>start_date</th>\n",
       "      <th>end_date</th>\n",
       "    </tr>\n",
       "  </thead>\n",
       "  <tbody>\n",
       "    <tr>\n",
       "      <th>12</th>\n",
       "      <td>13</td>\n",
       "      <td>2016-04-30 15:30:01 +0000 +0000</td>\n",
       "      <td>2016-05-15 15:30:00 +0000 +0000</td>\n",
       "    </tr>\n",
       "    <tr>\n",
       "      <th>10</th>\n",
       "      <td>11</td>\n",
       "      <td>2016-03-31 15:30:01 +0000 +0000</td>\n",
       "      <td>2016-04-15 15:30:00 +0000 +0000</td>\n",
       "    </tr>\n",
       "    <tr>\n",
       "      <th>3</th>\n",
       "      <td>4</td>\n",
       "      <td>2015-12-16 00:00:00 +0000 +0000</td>\n",
       "      <td>2015-12-31 23:59:59 +0000 +0000</td>\n",
       "    </tr>\n",
       "    <tr>\n",
       "      <th>15</th>\n",
       "      <td>16</td>\n",
       "      <td>2016-06-15 15:30:01 +0000 +0000</td>\n",
       "      <td>2016-06-30 15:30:00 +0000 +0000</td>\n",
       "    </tr>\n",
       "    <tr>\n",
       "      <th>21</th>\n",
       "      <td>22</td>\n",
       "      <td>2016-09-15 15:30:01 +0000 +0000</td>\n",
       "      <td>2016-09-30 15:30:00 +0000 +0000</td>\n",
       "    </tr>\n",
       "    <tr>\n",
       "      <th>5</th>\n",
       "      <td>6</td>\n",
       "      <td>2016-01-16 00:00:00 +0000 +0000</td>\n",
       "      <td>2016-01-31 23:59:59 +0000 +0000</td>\n",
       "    </tr>\n",
       "    <tr>\n",
       "      <th>0</th>\n",
       "      <td>1</td>\n",
       "      <td>2015-11-01 00:00:00 +0000 +0000</td>\n",
       "      <td>2015-11-15 00:00:00 +0000 +0000</td>\n",
       "    </tr>\n",
       "  </tbody>\n",
       "</table>\n",
       "</div>"
      ],
      "text/plain": [
       "    cycle_id                       start_date                         end_date\n",
       "12        13  2016-04-30 15:30:01 +0000 +0000  2016-05-15 15:30:00 +0000 +0000\n",
       "10        11  2016-03-31 15:30:01 +0000 +0000  2016-04-15 15:30:00 +0000 +0000\n",
       "3          4  2015-12-16 00:00:00 +0000 +0000  2015-12-31 23:59:59 +0000 +0000\n",
       "15        16  2016-06-15 15:30:01 +0000 +0000  2016-06-30 15:30:00 +0000 +0000\n",
       "21        22  2016-09-15 15:30:01 +0000 +0000  2016-09-30 15:30:00 +0000 +0000\n",
       "5          6  2016-01-16 00:00:00 +0000 +0000  2016-01-31 23:59:59 +0000 +0000\n",
       "0          1  2015-11-01 00:00:00 +0000 +0000  2015-11-15 00:00:00 +0000 +0000"
      ]
     },
     "execution_count": 8,
     "metadata": {},
     "output_type": "execute_result"
    }
   ],
   "source": [
    "cycles.sample(7)"
   ]
  },
  {
   "cell_type": "code",
   "execution_count": 9,
   "metadata": {},
   "outputs": [
    {
     "name": "stdout",
     "output_type": "stream",
     "text": [
      "<class 'pandas.core.frame.DataFrame'>\n",
      "RangeIndex: 23 entries, 0 to 22\n",
      "Data columns (total 3 columns):\n",
      "cycle_id      23 non-null int64\n",
      "start_date    23 non-null object\n",
      "end_date      23 non-null object\n",
      "dtypes: int64(1), object(2)\n",
      "memory usage: 632.0+ bytes\n"
     ]
    }
   ],
   "source": [
    "cycles.info()"
   ]
  },
  {
   "cell_type": "code",
   "execution_count": 10,
   "metadata": {},
   "outputs": [
    {
     "data": {
      "text/plain": [
       "cycle_id      0\n",
       "start_date    0\n",
       "end_date      0\n",
       "dtype: int64"
      ]
     },
     "execution_count": 10,
     "metadata": {},
     "output_type": "execute_result"
    }
   ],
   "source": [
    "cycles.isnull().sum()"
   ]
  },
  {
   "cell_type": "code",
   "execution_count": 11,
   "metadata": {},
   "outputs": [
    {
     "data": {
      "text/html": [
       "<div>\n",
       "<style scoped>\n",
       "    .dataframe tbody tr th:only-of-type {\n",
       "        vertical-align: middle;\n",
       "    }\n",
       "\n",
       "    .dataframe tbody tr th {\n",
       "        vertical-align: top;\n",
       "    }\n",
       "\n",
       "    .dataframe thead th {\n",
       "        text-align: right;\n",
       "    }\n",
       "</style>\n",
       "<table border=\"1\" class=\"dataframe\">\n",
       "  <thead>\n",
       "    <tr style=\"text-align: right;\">\n",
       "      <th></th>\n",
       "      <th>failure_event_id</th>\n",
       "      <th>transaction_id</th>\n",
       "      <th>user_id</th>\n",
       "      <th>failure_type</th>\n",
       "      <th>amount_in_paise</th>\n",
       "      <th>created_at</th>\n",
       "    </tr>\n",
       "  </thead>\n",
       "  <tbody>\n",
       "    <tr>\n",
       "      <th>12366</th>\n",
       "      <td>12367</td>\n",
       "      <td>104031</td>\n",
       "      <td>11970</td>\n",
       "      <td>error2</td>\n",
       "      <td>28200</td>\n",
       "      <td>2016-08-21 11:10:26.402877 +0000 +0000</td>\n",
       "    </tr>\n",
       "    <tr>\n",
       "      <th>1536</th>\n",
       "      <td>1537</td>\n",
       "      <td>18902</td>\n",
       "      <td>5027</td>\n",
       "      <td>error1</td>\n",
       "      <td>21400</td>\n",
       "      <td>2016-04-12 15:17:19.987564 +0000 +0000</td>\n",
       "    </tr>\n",
       "    <tr>\n",
       "      <th>2617</th>\n",
       "      <td>2618</td>\n",
       "      <td>29581</td>\n",
       "      <td>5776</td>\n",
       "      <td>error2</td>\n",
       "      <td>22400</td>\n",
       "      <td>2016-05-01 17:30:40.052621 +0000 +0000</td>\n",
       "    </tr>\n",
       "    <tr>\n",
       "      <th>5023</th>\n",
       "      <td>5024</td>\n",
       "      <td>50277</td>\n",
       "      <td>4511</td>\n",
       "      <td>error2</td>\n",
       "      <td>37000</td>\n",
       "      <td>2016-06-06 16:34:02.908327 +0000 +0000</td>\n",
       "    </tr>\n",
       "    <tr>\n",
       "      <th>6484</th>\n",
       "      <td>6485</td>\n",
       "      <td>61210</td>\n",
       "      <td>5636</td>\n",
       "      <td>error2</td>\n",
       "      <td>47600</td>\n",
       "      <td>2016-06-24 17:09:21.680878 +0000 +0000</td>\n",
       "    </tr>\n",
       "    <tr>\n",
       "      <th>6766</th>\n",
       "      <td>6767</td>\n",
       "      <td>63007</td>\n",
       "      <td>834</td>\n",
       "      <td>error3</td>\n",
       "      <td>28700</td>\n",
       "      <td>2016-06-27 13:01:40.765798 +0000 +0000</td>\n",
       "    </tr>\n",
       "    <tr>\n",
       "      <th>1414</th>\n",
       "      <td>1415</td>\n",
       "      <td>17079</td>\n",
       "      <td>5837</td>\n",
       "      <td>error3</td>\n",
       "      <td>28500</td>\n",
       "      <td>2016-04-07 15:44:11.761376 +0000 +0000</td>\n",
       "    </tr>\n",
       "  </tbody>\n",
       "</table>\n",
       "</div>"
      ],
      "text/plain": [
       "       failure_event_id  transaction_id  user_id failure_type  \\\n",
       "12366             12367          104031    11970       error2   \n",
       "1536               1537           18902     5027       error1   \n",
       "2617               2618           29581     5776       error2   \n",
       "5023               5024           50277     4511       error2   \n",
       "6484               6485           61210     5636       error2   \n",
       "6766               6767           63007      834       error3   \n",
       "1414               1415           17079     5837       error3   \n",
       "\n",
       "       amount_in_paise                              created_at  \n",
       "12366            28200  2016-08-21 11:10:26.402877 +0000 +0000  \n",
       "1536             21400  2016-04-12 15:17:19.987564 +0000 +0000  \n",
       "2617             22400  2016-05-01 17:30:40.052621 +0000 +0000  \n",
       "5023             37000  2016-06-06 16:34:02.908327 +0000 +0000  \n",
       "6484             47600  2016-06-24 17:09:21.680878 +0000 +0000  \n",
       "6766             28700  2016-06-27 13:01:40.765798 +0000 +0000  \n",
       "1414             28500  2016-04-07 15:44:11.761376 +0000 +0000  "
      ]
     },
     "execution_count": 11,
     "metadata": {},
     "output_type": "execute_result"
    }
   ],
   "source": [
    "failure.sample(7)"
   ]
  },
  {
   "cell_type": "code",
   "execution_count": 12,
   "metadata": {},
   "outputs": [
    {
     "name": "stdout",
     "output_type": "stream",
     "text": [
      "<class 'pandas.core.frame.DataFrame'>\n",
      "RangeIndex: 17993 entries, 0 to 17992\n",
      "Data columns (total 6 columns):\n",
      "failure_event_id    17993 non-null int64\n",
      "transaction_id      17993 non-null int64\n",
      "user_id             17993 non-null int64\n",
      "failure_type        17993 non-null object\n",
      "amount_in_paise     17993 non-null int64\n",
      "created_at          17993 non-null object\n",
      "dtypes: int64(4), object(2)\n",
      "memory usage: 843.5+ KB\n"
     ]
    }
   ],
   "source": [
    "failure.info()"
   ]
  },
  {
   "cell_type": "code",
   "execution_count": 13,
   "metadata": {},
   "outputs": [
    {
     "data": {
      "text/html": [
       "<div>\n",
       "<style scoped>\n",
       "    .dataframe tbody tr th:only-of-type {\n",
       "        vertical-align: middle;\n",
       "    }\n",
       "\n",
       "    .dataframe tbody tr th {\n",
       "        vertical-align: top;\n",
       "    }\n",
       "\n",
       "    .dataframe thead th {\n",
       "        text-align: right;\n",
       "    }\n",
       "</style>\n",
       "<table border=\"1\" class=\"dataframe\">\n",
       "  <thead>\n",
       "    <tr style=\"text-align: right;\">\n",
       "      <th></th>\n",
       "      <th>failure_event_id</th>\n",
       "      <th>transaction_id</th>\n",
       "      <th>user_id</th>\n",
       "      <th>amount_in_paise</th>\n",
       "    </tr>\n",
       "  </thead>\n",
       "  <tbody>\n",
       "    <tr>\n",
       "      <th>count</th>\n",
       "      <td>17993.000000</td>\n",
       "      <td>17993.000000</td>\n",
       "      <td>17993.000000</td>\n",
       "      <td>1.799300e+04</td>\n",
       "    </tr>\n",
       "    <tr>\n",
       "      <th>mean</th>\n",
       "      <td>8997.000000</td>\n",
       "      <td>77461.629800</td>\n",
       "      <td>7005.346079</td>\n",
       "      <td>4.127597e+04</td>\n",
       "    </tr>\n",
       "    <tr>\n",
       "      <th>std</th>\n",
       "      <td>5194.276032</td>\n",
       "      <td>39255.071653</td>\n",
       "      <td>4102.698217</td>\n",
       "      <td>1.039872e+05</td>\n",
       "    </tr>\n",
       "    <tr>\n",
       "      <th>min</th>\n",
       "      <td>1.000000</td>\n",
       "      <td>56.000000</td>\n",
       "      <td>1.000000</td>\n",
       "      <td>0.000000e+00</td>\n",
       "    </tr>\n",
       "    <tr>\n",
       "      <th>25%</th>\n",
       "      <td>4499.000000</td>\n",
       "      <td>45380.000000</td>\n",
       "      <td>3437.000000</td>\n",
       "      <td>1.900000e+04</td>\n",
       "    </tr>\n",
       "    <tr>\n",
       "      <th>50%</th>\n",
       "      <td>8997.000000</td>\n",
       "      <td>79189.000000</td>\n",
       "      <td>6817.000000</td>\n",
       "      <td>2.680000e+04</td>\n",
       "    </tr>\n",
       "    <tr>\n",
       "      <th>75%</th>\n",
       "      <td>13495.000000</td>\n",
       "      <td>111762.000000</td>\n",
       "      <td>10327.000000</td>\n",
       "      <td>3.890000e+04</td>\n",
       "    </tr>\n",
       "    <tr>\n",
       "      <th>max</th>\n",
       "      <td>17993.000000</td>\n",
       "      <td>141704.000000</td>\n",
       "      <td>16029.000000</td>\n",
       "      <td>1.045490e+07</td>\n",
       "    </tr>\n",
       "  </tbody>\n",
       "</table>\n",
       "</div>"
      ],
      "text/plain": [
       "       failure_event_id  transaction_id       user_id  amount_in_paise\n",
       "count      17993.000000    17993.000000  17993.000000     1.799300e+04\n",
       "mean        8997.000000    77461.629800   7005.346079     4.127597e+04\n",
       "std         5194.276032    39255.071653   4102.698217     1.039872e+05\n",
       "min            1.000000       56.000000      1.000000     0.000000e+00\n",
       "25%         4499.000000    45380.000000   3437.000000     1.900000e+04\n",
       "50%         8997.000000    79189.000000   6817.000000     2.680000e+04\n",
       "75%        13495.000000   111762.000000  10327.000000     3.890000e+04\n",
       "max        17993.000000   141704.000000  16029.000000     1.045490e+07"
      ]
     },
     "execution_count": 13,
     "metadata": {},
     "output_type": "execute_result"
    }
   ],
   "source": [
    "failure.describe()"
   ]
  },
  {
   "cell_type": "code",
   "execution_count": 14,
   "metadata": {},
   "outputs": [
    {
     "data": {
      "text/plain": [
       "failure_event_id    0\n",
       "transaction_id      0\n",
       "user_id             0\n",
       "failure_type        0\n",
       "amount_in_paise     0\n",
       "created_at          0\n",
       "dtype: int64"
      ]
     },
     "execution_count": 14,
     "metadata": {},
     "output_type": "execute_result"
    }
   ],
   "source": [
    "failure.isnull().sum()"
   ]
  },
  {
   "cell_type": "code",
   "execution_count": 16,
   "metadata": {},
   "outputs": [
    {
     "data": {
      "text/html": [
       "<div>\n",
       "<style scoped>\n",
       "    .dataframe tbody tr th:only-of-type {\n",
       "        vertical-align: middle;\n",
       "    }\n",
       "\n",
       "    .dataframe tbody tr th {\n",
       "        vertical-align: top;\n",
       "    }\n",
       "\n",
       "    .dataframe thead th {\n",
       "        text-align: right;\n",
       "    }\n",
       "</style>\n",
       "<table border=\"1\" class=\"dataframe\">\n",
       "  <thead>\n",
       "    <tr style=\"text-align: right;\">\n",
       "      <th></th>\n",
       "      <th>id</th>\n",
       "      <th>user_id</th>\n",
       "      <th>cycle_id</th>\n",
       "      <th>settlement_amount</th>\n",
       "      <th>settlement_status</th>\n",
       "      <th>days_delayed</th>\n",
       "      <th>bill_created_at</th>\n",
       "      <th>settled_at</th>\n",
       "    </tr>\n",
       "  </thead>\n",
       "  <tbody>\n",
       "    <tr>\n",
       "      <th>23270</th>\n",
       "      <td>7742</td>\n",
       "      <td>1679</td>\n",
       "      <td>13.0</td>\n",
       "      <td>123000</td>\n",
       "      <td>onetime_settlement</td>\n",
       "      <td>NaN</td>\n",
       "      <td>NaN</td>\n",
       "      <td>2016-05-08 09:25:40.873556 +0000 +0000</td>\n",
       "    </tr>\n",
       "    <tr>\n",
       "      <th>21249</th>\n",
       "      <td>9134</td>\n",
       "      <td>5481</td>\n",
       "      <td>13.0</td>\n",
       "      <td>31700</td>\n",
       "      <td>bill_settled</td>\n",
       "      <td>8.019809</td>\n",
       "      <td>2016-05-15 15:37:48.676583 +0000 +0000</td>\n",
       "      <td>2016-05-23 16:06:20.160917 +0000 +0000</td>\n",
       "    </tr>\n",
       "    <tr>\n",
       "      <th>19246</th>\n",
       "      <td>8259</td>\n",
       "      <td>13096</td>\n",
       "      <td>13.0</td>\n",
       "      <td>26200</td>\n",
       "      <td>bill_settled</td>\n",
       "      <td>17.852984</td>\n",
       "      <td>2016-05-15 15:31:19.32232 +0000 +0000</td>\n",
       "      <td>2016-06-02 11:59:37.136416 +0000 +0000</td>\n",
       "    </tr>\n",
       "    <tr>\n",
       "      <th>18733</th>\n",
       "      <td>8881</td>\n",
       "      <td>4211</td>\n",
       "      <td>13.0</td>\n",
       "      <td>32100</td>\n",
       "      <td>bill_settled</td>\n",
       "      <td>21.746186</td>\n",
       "      <td>2016-05-15 15:34:42.74746 +0000 +0000</td>\n",
       "      <td>2016-06-06 09:29:13.179089 +0000 +0000</td>\n",
       "    </tr>\n",
       "    <tr>\n",
       "      <th>27452</th>\n",
       "      <td>3115</td>\n",
       "      <td>3204</td>\n",
       "      <td>10.0</td>\n",
       "      <td>52300</td>\n",
       "      <td>bill_settled</td>\n",
       "      <td>1.001040</td>\n",
       "      <td>2016-03-31 15:32:43.079853 +0000 +0000</td>\n",
       "      <td>2016-04-01 15:34:12.893315 +0000 +0000</td>\n",
       "    </tr>\n",
       "    <tr>\n",
       "      <th>20647</th>\n",
       "      <td>8100</td>\n",
       "      <td>196</td>\n",
       "      <td>13.0</td>\n",
       "      <td>148300</td>\n",
       "      <td>bill_settled</td>\n",
       "      <td>16.005357</td>\n",
       "      <td>2016-05-15 15:30:25.324164 +0000 +0000</td>\n",
       "      <td>2016-05-31 15:38:08.193015 +0000 +0000</td>\n",
       "    </tr>\n",
       "    <tr>\n",
       "      <th>25369</th>\n",
       "      <td>5589</td>\n",
       "      <td>6208</td>\n",
       "      <td>12.0</td>\n",
       "      <td>23900</td>\n",
       "      <td>onetime_settlement</td>\n",
       "      <td>NaN</td>\n",
       "      <td>NaN</td>\n",
       "      <td>2016-04-25 07:19:12.701964 +0000 +0000</td>\n",
       "    </tr>\n",
       "  </tbody>\n",
       "</table>\n",
       "</div>"
      ],
      "text/plain": [
       "         id  user_id  cycle_id  settlement_amount   settlement_status  \\\n",
       "23270  7742     1679      13.0             123000  onetime_settlement   \n",
       "21249  9134     5481      13.0              31700        bill_settled   \n",
       "19246  8259    13096      13.0              26200        bill_settled   \n",
       "18733  8881     4211      13.0              32100        bill_settled   \n",
       "27452  3115     3204      10.0              52300        bill_settled   \n",
       "20647  8100      196      13.0             148300        bill_settled   \n",
       "25369  5589     6208      12.0              23900  onetime_settlement   \n",
       "\n",
       "       days_delayed                         bill_created_at  \\\n",
       "23270           NaN                                     NaN   \n",
       "21249      8.019809  2016-05-15 15:37:48.676583 +0000 +0000   \n",
       "19246     17.852984   2016-05-15 15:31:19.32232 +0000 +0000   \n",
       "18733     21.746186   2016-05-15 15:34:42.74746 +0000 +0000   \n",
       "27452      1.001040  2016-03-31 15:32:43.079853 +0000 +0000   \n",
       "20647     16.005357  2016-05-15 15:30:25.324164 +0000 +0000   \n",
       "25369           NaN                                     NaN   \n",
       "\n",
       "                                   settled_at  \n",
       "23270  2016-05-08 09:25:40.873556 +0000 +0000  \n",
       "21249  2016-05-23 16:06:20.160917 +0000 +0000  \n",
       "19246  2016-06-02 11:59:37.136416 +0000 +0000  \n",
       "18733  2016-06-06 09:29:13.179089 +0000 +0000  \n",
       "27452  2016-04-01 15:34:12.893315 +0000 +0000  \n",
       "20647  2016-05-31 15:38:08.193015 +0000 +0000  \n",
       "25369  2016-04-25 07:19:12.701964 +0000 +0000  "
      ]
     },
     "execution_count": 16,
     "metadata": {},
     "output_type": "execute_result"
    }
   ],
   "source": [
    "settlements.sample(7)"
   ]
  },
  {
   "cell_type": "code",
   "execution_count": 17,
   "metadata": {},
   "outputs": [
    {
     "name": "stdout",
     "output_type": "stream",
     "text": [
      "<class 'pandas.core.frame.DataFrame'>\n",
      "RangeIndex: 30683 entries, 0 to 30682\n",
      "Data columns (total 8 columns):\n",
      "id                   30683 non-null int64\n",
      "user_id              30683 non-null int64\n",
      "cycle_id             30681 non-null float64\n",
      "settlement_amount    30683 non-null int64\n",
      "settlement_status    30683 non-null object\n",
      "days_delayed         22395 non-null float64\n",
      "bill_created_at      24980 non-null object\n",
      "settled_at           28098 non-null object\n",
      "dtypes: float64(2), int64(3), object(3)\n",
      "memory usage: 1.9+ MB\n"
     ]
    }
   ],
   "source": [
    "settlements.info()"
   ]
  },
  {
   "cell_type": "code",
   "execution_count": 18,
   "metadata": {},
   "outputs": [
    {
     "data": {
      "text/html": [
       "<div>\n",
       "<style scoped>\n",
       "    .dataframe tbody tr th:only-of-type {\n",
       "        vertical-align: middle;\n",
       "    }\n",
       "\n",
       "    .dataframe tbody tr th {\n",
       "        vertical-align: top;\n",
       "    }\n",
       "\n",
       "    .dataframe thead th {\n",
       "        text-align: right;\n",
       "    }\n",
       "</style>\n",
       "<table border=\"1\" class=\"dataframe\">\n",
       "  <thead>\n",
       "    <tr style=\"text-align: right;\">\n",
       "      <th></th>\n",
       "      <th>id</th>\n",
       "      <th>user_id</th>\n",
       "      <th>cycle_id</th>\n",
       "      <th>settlement_amount</th>\n",
       "      <th>days_delayed</th>\n",
       "    </tr>\n",
       "  </thead>\n",
       "  <tbody>\n",
       "    <tr>\n",
       "      <th>count</th>\n",
       "      <td>30683.000000</td>\n",
       "      <td>30683.000000</td>\n",
       "      <td>30681.000000</td>\n",
       "      <td>30683.000000</td>\n",
       "      <td>22395.000000</td>\n",
       "    </tr>\n",
       "    <tr>\n",
       "      <th>mean</th>\n",
       "      <td>15378.590620</td>\n",
       "      <td>6210.827527</td>\n",
       "      <td>15.237737</td>\n",
       "      <td>50890.082065</td>\n",
       "      <td>5.098359</td>\n",
       "    </tr>\n",
       "    <tr>\n",
       "      <th>std</th>\n",
       "      <td>8907.130545</td>\n",
       "      <td>3667.269698</td>\n",
       "      <td>3.560640</td>\n",
       "      <td>40286.805289</td>\n",
       "      <td>9.669068</td>\n",
       "    </tr>\n",
       "    <tr>\n",
       "      <th>min</th>\n",
       "      <td>1.000000</td>\n",
       "      <td>1.000000</td>\n",
       "      <td>5.000000</td>\n",
       "      <td>37.000000</td>\n",
       "      <td>0.000674</td>\n",
       "    </tr>\n",
       "    <tr>\n",
       "      <th>25%</th>\n",
       "      <td>7676.500000</td>\n",
       "      <td>3282.000000</td>\n",
       "      <td>13.000000</td>\n",
       "      <td>23300.000000</td>\n",
       "      <td>0.587529</td>\n",
       "    </tr>\n",
       "    <tr>\n",
       "      <th>50%</th>\n",
       "      <td>15351.000000</td>\n",
       "      <td>5927.000000</td>\n",
       "      <td>16.000000</td>\n",
       "      <td>37600.000000</td>\n",
       "      <td>1.185550</td>\n",
       "    </tr>\n",
       "    <tr>\n",
       "      <th>75%</th>\n",
       "      <td>23030.500000</td>\n",
       "      <td>8962.000000</td>\n",
       "      <td>18.000000</td>\n",
       "      <td>65464.000000</td>\n",
       "      <td>5.789314</td>\n",
       "    </tr>\n",
       "    <tr>\n",
       "      <th>max</th>\n",
       "      <td>31096.000000</td>\n",
       "      <td>16033.000000</td>\n",
       "      <td>21.000000</td>\n",
       "      <td>746000.000000</td>\n",
       "      <td>210.576996</td>\n",
       "    </tr>\n",
       "  </tbody>\n",
       "</table>\n",
       "</div>"
      ],
      "text/plain": [
       "                 id       user_id      cycle_id  settlement_amount  \\\n",
       "count  30683.000000  30683.000000  30681.000000       30683.000000   \n",
       "mean   15378.590620   6210.827527     15.237737       50890.082065   \n",
       "std     8907.130545   3667.269698      3.560640       40286.805289   \n",
       "min        1.000000      1.000000      5.000000          37.000000   \n",
       "25%     7676.500000   3282.000000     13.000000       23300.000000   \n",
       "50%    15351.000000   5927.000000     16.000000       37600.000000   \n",
       "75%    23030.500000   8962.000000     18.000000       65464.000000   \n",
       "max    31096.000000  16033.000000     21.000000      746000.000000   \n",
       "\n",
       "       days_delayed  \n",
       "count  22395.000000  \n",
       "mean       5.098359  \n",
       "std        9.669068  \n",
       "min        0.000674  \n",
       "25%        0.587529  \n",
       "50%        1.185550  \n",
       "75%        5.789314  \n",
       "max      210.576996  "
      ]
     },
     "execution_count": 18,
     "metadata": {},
     "output_type": "execute_result"
    }
   ],
   "source": [
    "settlements.describe()"
   ]
  },
  {
   "cell_type": "code",
   "execution_count": 19,
   "metadata": {},
   "outputs": [
    {
     "data": {
      "text/plain": [
       "id                      0\n",
       "user_id                 0\n",
       "cycle_id                2\n",
       "settlement_amount       0\n",
       "settlement_status       0\n",
       "days_delayed         8288\n",
       "bill_created_at      5703\n",
       "settled_at           2585\n",
       "dtype: int64"
      ]
     },
     "execution_count": 19,
     "metadata": {},
     "output_type": "execute_result"
    }
   ],
   "source": [
    "settlements.isnull().sum()"
   ]
  },
  {
   "cell_type": "code",
   "execution_count": 20,
   "metadata": {},
   "outputs": [
    {
     "data": {
      "text/plain": [
       "bill_settled          22395\n",
       "onetime_settlement     5703\n",
       "bill_pending           2585\n",
       "Name: settlement_status, dtype: int64"
      ]
     },
     "execution_count": 20,
     "metadata": {},
     "output_type": "execute_result"
    }
   ],
   "source": [
    "settlements.settlement_status.value_counts()"
   ]
  },
  {
   "cell_type": "code",
   "execution_count": 22,
   "metadata": {},
   "outputs": [
    {
     "data": {
      "text/html": [
       "<div>\n",
       "<style scoped>\n",
       "    .dataframe tbody tr th:only-of-type {\n",
       "        vertical-align: middle;\n",
       "    }\n",
       "\n",
       "    .dataframe tbody tr th {\n",
       "        vertical-align: top;\n",
       "    }\n",
       "\n",
       "    .dataframe thead th {\n",
       "        text-align: right;\n",
       "    }\n",
       "</style>\n",
       "<table border=\"1\" class=\"dataframe\">\n",
       "  <thead>\n",
       "    <tr style=\"text-align: right;\">\n",
       "      <th></th>\n",
       "      <th>user_id</th>\n",
       "    </tr>\n",
       "  </thead>\n",
       "  <tbody>\n",
       "    <tr>\n",
       "      <th>0</th>\n",
       "      <td>1435</td>\n",
       "    </tr>\n",
       "    <tr>\n",
       "      <th>1</th>\n",
       "      <td>9826</td>\n",
       "    </tr>\n",
       "    <tr>\n",
       "      <th>2</th>\n",
       "      <td>5700</td>\n",
       "    </tr>\n",
       "    <tr>\n",
       "      <th>3</th>\n",
       "      <td>9548</td>\n",
       "    </tr>\n",
       "    <tr>\n",
       "      <th>4</th>\n",
       "      <td>7358</td>\n",
       "    </tr>\n",
       "    <tr>\n",
       "      <th>5</th>\n",
       "      <td>11706</td>\n",
       "    </tr>\n",
       "    <tr>\n",
       "      <th>6</th>\n",
       "      <td>12399</td>\n",
       "    </tr>\n",
       "  </tbody>\n",
       "</table>\n",
       "</div>"
      ],
      "text/plain": [
       "   user_id\n",
       "0     1435\n",
       "1     9826\n",
       "2     5700\n",
       "3     9548\n",
       "4     7358\n",
       "5    11706\n",
       "6    12399"
      ]
     },
     "execution_count": 22,
     "metadata": {},
     "output_type": "execute_result"
    }
   ],
   "source": [
    "test.head(7)"
   ]
  },
  {
   "cell_type": "code",
   "execution_count": 23,
   "metadata": {},
   "outputs": [
    {
     "data": {
      "text/plain": [
       "(3493, 1)"
      ]
     },
     "execution_count": 23,
     "metadata": {},
     "output_type": "execute_result"
    }
   ],
   "source": [
    "test.shape"
   ]
  },
  {
   "cell_type": "code",
   "execution_count": 24,
   "metadata": {},
   "outputs": [
    {
     "data": {
      "text/html": [
       "<div>\n",
       "<style scoped>\n",
       "    .dataframe tbody tr th:only-of-type {\n",
       "        vertical-align: middle;\n",
       "    }\n",
       "\n",
       "    .dataframe tbody tr th {\n",
       "        vertical-align: top;\n",
       "    }\n",
       "\n",
       "    .dataframe thead th {\n",
       "        text-align: right;\n",
       "    }\n",
       "</style>\n",
       "<table border=\"1\" class=\"dataframe\">\n",
       "  <thead>\n",
       "    <tr style=\"text-align: right;\">\n",
       "      <th></th>\n",
       "      <th>transaction_id</th>\n",
       "      <th>user_id</th>\n",
       "      <th>merchant_id</th>\n",
       "      <th>transaction_amount</th>\n",
       "      <th>created_at</th>\n",
       "    </tr>\n",
       "  </thead>\n",
       "  <tbody>\n",
       "    <tr>\n",
       "      <th>39882</th>\n",
       "      <td>67941</td>\n",
       "      <td>10358</td>\n",
       "      <td>1</td>\n",
       "      <td>20100</td>\n",
       "      <td>2016-07-03 08:22:35.823276 +0000 +0000</td>\n",
       "    </tr>\n",
       "    <tr>\n",
       "      <th>66315</th>\n",
       "      <td>16552</td>\n",
       "      <td>1956</td>\n",
       "      <td>1</td>\n",
       "      <td>28300</td>\n",
       "      <td>2016-04-06 08:45:04.421555 +0000 +0000</td>\n",
       "    </tr>\n",
       "    <tr>\n",
       "      <th>11294</th>\n",
       "      <td>121166</td>\n",
       "      <td>11020</td>\n",
       "      <td>1</td>\n",
       "      <td>28000</td>\n",
       "      <td>2016-09-09 16:36:47.570483 +0000 +0000</td>\n",
       "    </tr>\n",
       "    <tr>\n",
       "      <th>9798</th>\n",
       "      <td>123725</td>\n",
       "      <td>12080</td>\n",
       "      <td>1</td>\n",
       "      <td>31100</td>\n",
       "      <td>2016-09-13 07:03:04.757082 +0000 +0000</td>\n",
       "    </tr>\n",
       "    <tr>\n",
       "      <th>12571</th>\n",
       "      <td>119158</td>\n",
       "      <td>7752</td>\n",
       "      <td>1</td>\n",
       "      <td>27500</td>\n",
       "      <td>2016-09-06 18:06:46.52098 +0000 +0000</td>\n",
       "    </tr>\n",
       "    <tr>\n",
       "      <th>54068</th>\n",
       "      <td>40624</td>\n",
       "      <td>11560</td>\n",
       "      <td>1</td>\n",
       "      <td>21500</td>\n",
       "      <td>2016-05-22 06:30:07.123618 +0000 +0000</td>\n",
       "    </tr>\n",
       "    <tr>\n",
       "      <th>10289</th>\n",
       "      <td>122799</td>\n",
       "      <td>5700</td>\n",
       "      <td>1</td>\n",
       "      <td>38500</td>\n",
       "      <td>2016-09-11 16:54:27.47874 +0000 +0000</td>\n",
       "    </tr>\n",
       "  </tbody>\n",
       "</table>\n",
       "</div>"
      ],
      "text/plain": [
       "       transaction_id  user_id  merchant_id  transaction_amount  \\\n",
       "39882           67941    10358            1               20100   \n",
       "66315           16552     1956            1               28300   \n",
       "11294          121166    11020            1               28000   \n",
       "9798           123725    12080            1               31100   \n",
       "12571          119158     7752            1               27500   \n",
       "54068           40624    11560            1               21500   \n",
       "10289          122799     5700            1               38500   \n",
       "\n",
       "                                   created_at  \n",
       "39882  2016-07-03 08:22:35.823276 +0000 +0000  \n",
       "66315  2016-04-06 08:45:04.421555 +0000 +0000  \n",
       "11294  2016-09-09 16:36:47.570483 +0000 +0000  \n",
       "9798   2016-09-13 07:03:04.757082 +0000 +0000  \n",
       "12571   2016-09-06 18:06:46.52098 +0000 +0000  \n",
       "54068  2016-05-22 06:30:07.123618 +0000 +0000  \n",
       "10289   2016-09-11 16:54:27.47874 +0000 +0000  "
      ]
     },
     "execution_count": 24,
     "metadata": {},
     "output_type": "execute_result"
    }
   ],
   "source": [
    "transactions.sample(7)"
   ]
  },
  {
   "cell_type": "code",
   "execution_count": 25,
   "metadata": {},
   "outputs": [
    {
     "name": "stdout",
     "output_type": "stream",
     "text": [
      "<class 'pandas.core.frame.DataFrame'>\n",
      "RangeIndex: 73731 entries, 0 to 73730\n",
      "Data columns (total 5 columns):\n",
      "transaction_id        73731 non-null int64\n",
      "user_id               73731 non-null int64\n",
      "merchant_id           73731 non-null int64\n",
      "transaction_amount    73731 non-null int64\n",
      "created_at            73731 non-null object\n",
      "dtypes: int64(4), object(1)\n",
      "memory usage: 2.8+ MB\n"
     ]
    }
   ],
   "source": [
    "transactions.info()"
   ]
  },
  {
   "cell_type": "code",
   "execution_count": 26,
   "metadata": {},
   "outputs": [
    {
     "data": {
      "text/html": [
       "<div>\n",
       "<style scoped>\n",
       "    .dataframe tbody tr th:only-of-type {\n",
       "        vertical-align: middle;\n",
       "    }\n",
       "\n",
       "    .dataframe tbody tr th {\n",
       "        vertical-align: top;\n",
       "    }\n",
       "\n",
       "    .dataframe thead th {\n",
       "        text-align: right;\n",
       "    }\n",
       "</style>\n",
       "<table border=\"1\" class=\"dataframe\">\n",
       "  <thead>\n",
       "    <tr style=\"text-align: right;\">\n",
       "      <th></th>\n",
       "      <th>transaction_id</th>\n",
       "      <th>user_id</th>\n",
       "      <th>merchant_id</th>\n",
       "      <th>transaction_amount</th>\n",
       "    </tr>\n",
       "  </thead>\n",
       "  <tbody>\n",
       "    <tr>\n",
       "      <th>count</th>\n",
       "      <td>73731.000000</td>\n",
       "      <td>73731.000000</td>\n",
       "      <td>73731.000000</td>\n",
       "      <td>73731.000000</td>\n",
       "    </tr>\n",
       "    <tr>\n",
       "      <th>mean</th>\n",
       "      <td>72930.399113</td>\n",
       "      <td>6747.953615</td>\n",
       "      <td>1.711749</td>\n",
       "      <td>27335.566844</td>\n",
       "    </tr>\n",
       "    <tr>\n",
       "      <th>std</th>\n",
       "      <td>40622.112620</td>\n",
       "      <td>4019.003265</td>\n",
       "      <td>2.335634</td>\n",
       "      <td>19021.921623</td>\n",
       "    </tr>\n",
       "    <tr>\n",
       "      <th>min</th>\n",
       "      <td>26.000000</td>\n",
       "      <td>1.000000</td>\n",
       "      <td>1.000000</td>\n",
       "      <td>0.000000</td>\n",
       "    </tr>\n",
       "    <tr>\n",
       "      <th>25%</th>\n",
       "      <td>38666.500000</td>\n",
       "      <td>3402.000000</td>\n",
       "      <td>1.000000</td>\n",
       "      <td>17200.000000</td>\n",
       "    </tr>\n",
       "    <tr>\n",
       "      <th>50%</th>\n",
       "      <td>73366.000000</td>\n",
       "      <td>6415.000000</td>\n",
       "      <td>1.000000</td>\n",
       "      <td>23700.000000</td>\n",
       "    </tr>\n",
       "    <tr>\n",
       "      <th>75%</th>\n",
       "      <td>107865.000000</td>\n",
       "      <td>9907.000000</td>\n",
       "      <td>1.000000</td>\n",
       "      <td>31900.000000</td>\n",
       "    </tr>\n",
       "    <tr>\n",
       "      <th>max</th>\n",
       "      <td>141695.000000</td>\n",
       "      <td>16045.000000</td>\n",
       "      <td>18.000000</td>\n",
       "      <td>746000.000000</td>\n",
       "    </tr>\n",
       "  </tbody>\n",
       "</table>\n",
       "</div>"
      ],
      "text/plain": [
       "       transaction_id       user_id   merchant_id  transaction_amount\n",
       "count    73731.000000  73731.000000  73731.000000        73731.000000\n",
       "mean     72930.399113   6747.953615      1.711749        27335.566844\n",
       "std      40622.112620   4019.003265      2.335634        19021.921623\n",
       "min         26.000000      1.000000      1.000000            0.000000\n",
       "25%      38666.500000   3402.000000      1.000000        17200.000000\n",
       "50%      73366.000000   6415.000000      1.000000        23700.000000\n",
       "75%     107865.000000   9907.000000      1.000000        31900.000000\n",
       "max     141695.000000  16045.000000     18.000000       746000.000000"
      ]
     },
     "execution_count": 26,
     "metadata": {},
     "output_type": "execute_result"
    }
   ],
   "source": [
    "transactions.describe()"
   ]
  },
  {
   "cell_type": "code",
   "execution_count": 27,
   "metadata": {},
   "outputs": [
    {
     "data": {
      "text/html": [
       "<div>\n",
       "<style scoped>\n",
       "    .dataframe tbody tr th:only-of-type {\n",
       "        vertical-align: middle;\n",
       "    }\n",
       "\n",
       "    .dataframe tbody tr th {\n",
       "        vertical-align: top;\n",
       "    }\n",
       "\n",
       "    .dataframe thead th {\n",
       "        text-align: right;\n",
       "    }\n",
       "</style>\n",
       "<table border=\"1\" class=\"dataframe\">\n",
       "  <thead>\n",
       "    <tr style=\"text-align: right;\">\n",
       "      <th></th>\n",
       "      <th>user_id</th>\n",
       "      <th>referrer</th>\n",
       "      <th>email</th>\n",
       "      <th>name</th>\n",
       "      <th>city_id</th>\n",
       "    </tr>\n",
       "  </thead>\n",
       "  <tbody>\n",
       "    <tr>\n",
       "      <th>14225</th>\n",
       "      <td>14226</td>\n",
       "      <td>a</td>\n",
       "      <td>14226@9.com</td>\n",
       "      <td>ud s</td>\n",
       "      <td>4.0</td>\n",
       "    </tr>\n",
       "    <tr>\n",
       "      <th>14632</th>\n",
       "      <td>14633</td>\n",
       "      <td>f</td>\n",
       "      <td>NaN</td>\n",
       "      <td>NaN</td>\n",
       "      <td>NaN</td>\n",
       "    </tr>\n",
       "    <tr>\n",
       "      <th>7945</th>\n",
       "      <td>7946</td>\n",
       "      <td>a</td>\n",
       "      <td>7946@1.com</td>\n",
       "      <td>ukee</td>\n",
       "      <td>6.0</td>\n",
       "    </tr>\n",
       "    <tr>\n",
       "      <th>5286</th>\n",
       "      <td>5287</td>\n",
       "      <td>a</td>\n",
       "      <td>5287@1.com</td>\n",
       "      <td>huam</td>\n",
       "      <td>1.0</td>\n",
       "    </tr>\n",
       "    <tr>\n",
       "      <th>1116</th>\n",
       "      <td>1117</td>\n",
       "      <td>a</td>\n",
       "      <td>1117@1.com</td>\n",
       "      <td>hoik</td>\n",
       "      <td>3.0</td>\n",
       "    </tr>\n",
       "    <tr>\n",
       "      <th>3592</th>\n",
       "      <td>3593</td>\n",
       "      <td>a</td>\n",
       "      <td>3593@9.com</td>\n",
       "      <td>rad</td>\n",
       "      <td>1.0</td>\n",
       "    </tr>\n",
       "    <tr>\n",
       "      <th>7365</th>\n",
       "      <td>7366</td>\n",
       "      <td>a</td>\n",
       "      <td>7366@1.com</td>\n",
       "      <td>amh</td>\n",
       "      <td>1.0</td>\n",
       "    </tr>\n",
       "  </tbody>\n",
       "</table>\n",
       "</div>"
      ],
      "text/plain": [
       "       user_id referrer        email  name  city_id\n",
       "14225    14226        a  14226@9.com  ud s      4.0\n",
       "14632    14633        f          NaN   NaN      NaN\n",
       "7945      7946        a   7946@1.com  ukee      6.0\n",
       "5286      5287        a   5287@1.com  huam      1.0\n",
       "1116      1117        a   1117@1.com  hoik      3.0\n",
       "3592      3593        a   3593@9.com   rad      1.0\n",
       "7365      7366        a   7366@1.com   amh      1.0"
      ]
     },
     "execution_count": 27,
     "metadata": {},
     "output_type": "execute_result"
    }
   ],
   "source": [
    "users.sample(7)"
   ]
  },
  {
   "cell_type": "code",
   "execution_count": 28,
   "metadata": {},
   "outputs": [
    {
     "name": "stdout",
     "output_type": "stream",
     "text": [
      "<class 'pandas.core.frame.DataFrame'>\n",
      "RangeIndex: 16050 entries, 0 to 16049\n",
      "Data columns (total 5 columns):\n",
      "user_id     16050 non-null int64\n",
      "referrer    16028 non-null object\n",
      "email       14970 non-null object\n",
      "name        15065 non-null object\n",
      "city_id     12945 non-null float64\n",
      "dtypes: float64(1), int64(1), object(3)\n",
      "memory usage: 627.0+ KB\n"
     ]
    }
   ],
   "source": [
    "users.info()"
   ]
  },
  {
   "cell_type": "code",
   "execution_count": 29,
   "metadata": {},
   "outputs": [
    {
     "data": {
      "text/plain": [
       "1.0     3779\n",
       "3.0     2156\n",
       "2.0     1497\n",
       "4.0     1089\n",
       "7.0     1068\n",
       "5.0     1039\n",
       "6.0      905\n",
       "9.0      452\n",
       "22.0     206\n",
       "20.0     111\n",
       "Name: city_id, dtype: int64"
      ]
     },
     "execution_count": 29,
     "metadata": {},
     "output_type": "execute_result"
    }
   ],
   "source": [
    "users.city_id.value_counts().head(10)"
   ]
  },
  {
   "cell_type": "code",
   "execution_count": 30,
   "metadata": {},
   "outputs": [
    {
     "data": {
      "text/plain": [
       "a    13066\n",
       "o      766\n",
       "e      523\n",
       "j      489\n",
       "k      487\n",
       "Name: referrer, dtype: int64"
      ]
     },
     "execution_count": 30,
     "metadata": {},
     "output_type": "execute_result"
    }
   ],
   "source": [
    "users.referrer.value_counts().head()"
   ]
  },
  {
   "cell_type": "code",
   "execution_count": 31,
   "metadata": {},
   "outputs": [
    {
     "data": {
      "text/plain": [
       "user_id        0\n",
       "referrer      22\n",
       "email       1080\n",
       "name         985\n",
       "city_id     3105\n",
       "dtype: int64"
      ]
     },
     "execution_count": 31,
     "metadata": {},
     "output_type": "execute_result"
    }
   ],
   "source": [
    "users.isnull().sum()"
   ]
  },
  {
   "cell_type": "markdown",
   "metadata": {},
   "source": [
    "### Finding Cycles belonging to each Transaction Id"
   ]
  },
  {
   "cell_type": "code",
   "execution_count": null,
   "metadata": {},
   "outputs": [],
   "source": [
    "c = cycles[['start_date', 'end_date']].values\n",
    "transactions['cycle_id'] = 0\n",
    "transactions.cycle_id.value_counts()"
   ]
  },
  {
   "cell_type": "code",
   "execution_count": 33,
   "metadata": {},
   "outputs": [
    {
     "data": {
      "text/plain": [
       "22    8666\n",
       "20    7307\n",
       "21    7159\n",
       "18    6515\n",
       "19    6057\n",
       "Name: cycle_id, dtype: int64"
      ]
     },
     "execution_count": 33,
     "metadata": {},
     "output_type": "execute_result"
    }
   ],
   "source": [
    "abc = []\n",
    "for index, row in transactions.iterrows():\n",
    "    for a,b in enumerate(c):\n",
    "        if ((row['created_at'] >= c[a][0]) and (row['created_at'] < c[a][1])):\n",
    "            row['cycle_id'] = a+1\n",
    "    abc.append(row['cycle_id'])\n",
    "    \n",
    "\n",
    "l = pd.DataFrame(abc, columns = ['cycle_id'])\n",
    "l.cycle_id.value_counts().head()"
   ]
  },
  {
   "cell_type": "code",
   "execution_count": 34,
   "metadata": {},
   "outputs": [
    {
     "data": {
      "text/plain": [
       "array([22, 21, 20, 19, 18, 17, 16, 15, 14, 13, 12, 11, 10,  9,  8,  7,  6,\n",
       "        5,  4,  0,  3])"
      ]
     },
     "execution_count": 34,
     "metadata": {},
     "output_type": "execute_result"
    }
   ],
   "source": [
    "transactions[['cycle_id']] = l[['cycle_id']]\n",
    "transactions.cycle_id.unique()"
   ]
  },
  {
   "cell_type": "markdown",
   "metadata": {},
   "source": [
    "## Visual Analysis & Interpretation of the Dataset"
   ]
  },
  {
   "cell_type": "code",
   "execution_count": 37,
   "metadata": {},
   "outputs": [],
   "source": [
    "sns.set(rc={'figure.figsize':(14.7,10.27)}, style=\"darkgrid\")"
   ]
  },
  {
   "cell_type": "markdown",
   "metadata": {},
   "source": [
    "### Settlements"
   ]
  },
  {
   "cell_type": "code",
   "execution_count": 39,
   "metadata": {},
   "outputs": [
    {
     "data": {
      "text/plain": [
       "bill_settled          22395\n",
       "onetime_settlement     5703\n",
       "bill_pending           2585\n",
       "Name: settlement_status, dtype: int64"
      ]
     },
     "execution_count": 39,
     "metadata": {},
     "output_type": "execute_result"
    }
   ],
   "source": [
    "settlements['settlement_status'].value_counts()"
   ]
  },
  {
   "cell_type": "markdown",
   "metadata": {},
   "source": [
    "#### Settlement_amount has a mean of roughly 50,000. A distribution of the same has been shown below"
   ]
  },
  {
   "cell_type": "code",
   "execution_count": 40,
   "metadata": {},
   "outputs": [
    {
     "data": {
      "text/plain": [
       "count     30683.000000\n",
       "mean      50890.082065\n",
       "std       40286.805289\n",
       "min          37.000000\n",
       "25%       23300.000000\n",
       "50%       37600.000000\n",
       "75%       65464.000000\n",
       "max      746000.000000\n",
       "Name: settlement_amount, dtype: float64"
      ]
     },
     "execution_count": 40,
     "metadata": {},
     "output_type": "execute_result"
    }
   ],
   "source": [
    "settlements.settlement_amount.describe()"
   ]
  },
  {
   "cell_type": "code",
   "execution_count": 41,
   "metadata": {},
   "outputs": [
    {
     "data": {
      "text/plain": [
       "<matplotlib.axes._subplots.AxesSubplot at 0x7fa4f200eb38>"
      ]
     },
     "execution_count": 41,
     "metadata": {},
     "output_type": "execute_result"
    },
    {
     "data": {
      "image/png": "[encoded data removed]",
      "text/plain": [
       "<Figure size 1058.4x739.44 with 1 Axes>"
      ]
     },
     "metadata": {},
     "output_type": "display_data"
    }
   ],
   "source": [
    "sns.countplot(x='settlement_amount',palette=\"Set3\",data=settlements) # frequency distribution of settlement_amount"
   ]
  },
  {
   "cell_type": "markdown",
   "metadata": {},
   "source": [
    "#### Settlement Amount \n",
    "\n",
    "Settlement Amount is seen to be relatively higher in the more recent cycles (barring a few outliers). \n",
    "\n",
    "Could indicate that people have started using APS more regularly since it's inception. Will discuss further in transactions"
   ]
  },
  {
   "cell_type": "code",
   "execution_count": 42,
   "metadata": {},
   "outputs": [
    {
     "data": {
      "text/plain": [
       "<seaborn.axisgrid.FacetGrid at 0x7fa4efb63cc0>"
      ]
     },
     "execution_count": 42,
     "metadata": {},
     "output_type": "execute_result"
    },
    {
     "data": {
      "image/png": "[encoded data removed]",
      "text/plain": [
       "<Figure size 360x360 with 1 Axes>"
      ]
     },
     "metadata": {},
     "output_type": "display_data"
    }
   ],
   "source": [
    "sns.catplot(y=\"settlement_amount\", x=\"cycle_id\", kind=\"swarm\", data=settlements.sample(10000))"
   ]
  },
  {
   "cell_type": "code",
   "execution_count": 43,
   "metadata": {},
   "outputs": [],
   "source": [
    "# removing top two values for a better visual representation\n",
    "settlements = settlements[settlements.settlement_amount != 746000]\n",
    "settlements = settlements[settlements.settlement_amount != 710500]"
   ]
  },
  {
   "cell_type": "markdown",
   "metadata": {},
   "source": [
    "#### Settlement status vs Settlement amount\n",
    "\n",
    "While they do not differ a lot in terms of their distribution, we can still learn something.\n",
    "\n",
    "1. Even though most settlements are centered around the 50,000 mark, quite a few outliers are present on the upside of 1,00,0000.\n",
    "\n",
    "2. Bills which are settled have a lot more outliers involved than the other two."
   ]
  },
  {
   "cell_type": "code",
   "execution_count": 44,
   "metadata": {},
   "outputs": [
    {
     "data": {
      "text/plain": [
       "bill_settled          22394\n",
       "onetime_settlement     5703\n",
       "bill_pending           2584\n",
       "Name: settlement_status, dtype: int64"
      ]
     },
     "execution_count": 44,
     "metadata": {},
     "output_type": "execute_result"
    }
   ],
   "source": [
    "settlements.settlement_status.value_counts()"
   ]
  },
  {
   "cell_type": "code",
   "execution_count": 45,
   "metadata": {},
   "outputs": [
    {
     "data": {
      "text/plain": [
       "<seaborn.axisgrid.FacetGrid at 0x7fa4ed45c8d0>"
      ]
     },
     "execution_count": 45,
     "metadata": {},
     "output_type": "execute_result"
    },
    {
     "data": {
      "image/png": "[encoded data removed]",
      "text/plain": [
       "<Figure size 1080x360 with 3 Axes>"
      ]
     },
     "metadata": {},
     "output_type": "display_data"
    }
   ],
   "source": [
    "sns.catplot(y='settlement_amount', col='settlement_status', kind='box', data=settlements)"
   ]
  },
  {
   "cell_type": "markdown",
   "metadata": {},
   "source": [
    "#### Days Delayed\n",
    "\n",
    "One should expect that settlements with large value take more time to receive, but we can observe from this scatter plot that most settlements with lesser amounts are the ones who take a longer time.\n",
    "\n",
    "It has a mean of 5 days +/- 9.6 days of standard deviation."
   ]
  },
  {
   "cell_type": "code",
   "execution_count": 46,
   "metadata": {},
   "outputs": [
    {
     "data": {
      "text/plain": [
       "count    22394.000000\n",
       "mean         5.098553\n",
       "std          9.669240\n",
       "min          0.000674\n",
       "25%          0.587513\n",
       "50%          1.186390\n",
       "75%          5.790339\n",
       "max        210.576996\n",
       "Name: days_delayed, dtype: float64"
      ]
     },
     "execution_count": 46,
     "metadata": {},
     "output_type": "execute_result"
    }
   ],
   "source": [
    "settlements.days_delayed.describe()"
   ]
  },
  {
   "cell_type": "code",
   "execution_count": 47,
   "metadata": {},
   "outputs": [
    {
     "data": {
      "text/plain": [
       "<matplotlib.axes._subplots.AxesSubplot at 0x7fa4ebfdbac8>"
      ]
     },
     "execution_count": 47,
     "metadata": {},
     "output_type": "execute_result"
    },
    {
     "data": {
      "image/png": "[encoded data removed]",
      "text/plain": [
       "<Figure size 1058.4x739.44 with 1 Axes>"
      ]
     },
     "metadata": {},
     "output_type": "display_data"
    }
   ],
   "source": [
    "sns.scatterplot(y=\"days_delayed\", x=\"settlement_amount\", data=settlements)"
   ]
  },
  {
   "cell_type": "markdown",
   "metadata": {},
   "source": [
    "## Transactions Analysis"
   ]
  },
  {
   "cell_type": "code",
   "execution_count": 48,
   "metadata": {},
   "outputs": [
    {
     "data": {
      "text/html": [
       "<div>\n",
       "<style scoped>\n",
       "    .dataframe tbody tr th:only-of-type {\n",
       "        vertical-align: middle;\n",
       "    }\n",
       "\n",
       "    .dataframe tbody tr th {\n",
       "        vertical-align: top;\n",
       "    }\n",
       "\n",
       "    .dataframe thead th {\n",
       "        text-align: right;\n",
       "    }\n",
       "</style>\n",
       "<table border=\"1\" class=\"dataframe\">\n",
       "  <thead>\n",
       "    <tr style=\"text-align: right;\">\n",
       "      <th></th>\n",
       "      <th>transaction_id</th>\n",
       "      <th>user_id</th>\n",
       "      <th>merchant_id</th>\n",
       "      <th>transaction_amount</th>\n",
       "      <th>created_at</th>\n",
       "      <th>cycle_id</th>\n",
       "    </tr>\n",
       "  </thead>\n",
       "  <tbody>\n",
       "    <tr>\n",
       "      <th>0</th>\n",
       "      <td>141695</td>\n",
       "      <td>13693</td>\n",
       "      <td>1</td>\n",
       "      <td>10100</td>\n",
       "      <td>2016-09-30 15:29:10.228672 +0000 +0000</td>\n",
       "      <td>22</td>\n",
       "    </tr>\n",
       "    <tr>\n",
       "      <th>1</th>\n",
       "      <td>141694</td>\n",
       "      <td>8166</td>\n",
       "      <td>1</td>\n",
       "      <td>20900</td>\n",
       "      <td>2016-09-30 15:29:00.286923 +0000 +0000</td>\n",
       "      <td>22</td>\n",
       "    </tr>\n",
       "    <tr>\n",
       "      <th>2</th>\n",
       "      <td>141688</td>\n",
       "      <td>15886</td>\n",
       "      <td>1</td>\n",
       "      <td>28100</td>\n",
       "      <td>2016-09-30 15:27:55.801021 +0000 +0000</td>\n",
       "      <td>22</td>\n",
       "    </tr>\n",
       "    <tr>\n",
       "      <th>3</th>\n",
       "      <td>141686</td>\n",
       "      <td>12014</td>\n",
       "      <td>8</td>\n",
       "      <td>18000</td>\n",
       "      <td>2016-09-30 15:27:17.891471 +0000 +0000</td>\n",
       "      <td>22</td>\n",
       "    </tr>\n",
       "    <tr>\n",
       "      <th>4</th>\n",
       "      <td>141684</td>\n",
       "      <td>12392</td>\n",
       "      <td>1</td>\n",
       "      <td>63500</td>\n",
       "      <td>2016-09-30 15:25:56.857979 +0000 +0000</td>\n",
       "      <td>22</td>\n",
       "    </tr>\n",
       "  </tbody>\n",
       "</table>\n",
       "</div>"
      ],
      "text/plain": [
       "   transaction_id  user_id  merchant_id  transaction_amount  \\\n",
       "0          141695    13693            1               10100   \n",
       "1          141694     8166            1               20900   \n",
       "2          141688    15886            1               28100   \n",
       "3          141686    12014            8               18000   \n",
       "4          141684    12392            1               63500   \n",
       "\n",
       "                               created_at  cycle_id  \n",
       "0  2016-09-30 15:29:10.228672 +0000 +0000        22  \n",
       "1  2016-09-30 15:29:00.286923 +0000 +0000        22  \n",
       "2  2016-09-30 15:27:55.801021 +0000 +0000        22  \n",
       "3  2016-09-30 15:27:17.891471 +0000 +0000        22  \n",
       "4  2016-09-30 15:25:56.857979 +0000 +0000        22  "
      ]
     },
     "execution_count": 48,
     "metadata": {},
     "output_type": "execute_result"
    }
   ],
   "source": [
    "transactions.head()"
   ]
  },
  {
   "cell_type": "markdown",
   "metadata": {},
   "source": [
    "### Transactions per Merchant\n",
    "\n",
    "1. Most transactions done from Merchant 1 which ranges from 0 - 1,00,000\n",
    "2. Merchant 8 and 6 have a great range of products and have sold products from cheap and expensive ranges.\n",
    "3. Most significant competititors to Merchant 1 are Merchant (7,8,11,9).\n",
    "4. Merchant (2,11-18) have very little selling power and range."
   ]
  },
  {
   "cell_type": "code",
   "execution_count": 49,
   "metadata": {},
   "outputs": [
    {
     "data": {
      "text/plain": [
       "1     66845\n",
       "7      2273\n",
       "8      1114\n",
       "11      900\n",
       "9       854\n",
       "Name: merchant_id, dtype: int64"
      ]
     },
     "execution_count": 49,
     "metadata": {},
     "output_type": "execute_result"
    }
   ],
   "source": [
    "transactions.merchant_id.value_counts().head(5)"
   ]
  },
  {
   "cell_type": "code",
   "execution_count": 50,
   "metadata": {},
   "outputs": [
    {
     "data": {
      "image/png": "[encoded data removed]",
      "text/plain": [
       "<Figure size 360x360 with 1 Axes>"
      ]
     },
     "metadata": {},
     "output_type": "display_data"
    }
   ],
   "source": [
    "g = sns.catplot(x=\"merchant_id\", y=\"transaction_amount\", kind=\"violin\", inner=None, data=transactions.sample(1000))\n",
    "sns.swarmplot(x=\"merchant_id\", y=\"transaction_amount\", color=\"k\", size=3, data=transactions.sample(1000), ax=g.ax);"
   ]
  },
  {
   "cell_type": "code",
   "execution_count": 51,
   "metadata": {},
   "outputs": [
    {
     "data": {
      "text/plain": [
       "33147     0\n",
       "73728     0\n",
       "826      44\n",
       "44088    66\n",
       "2534     76\n",
       "Name: transaction_amount, dtype: int64"
      ]
     },
     "execution_count": 51,
     "metadata": {},
     "output_type": "execute_result"
    }
   ],
   "source": [
    "transactions.transaction_amount.nsmallest()"
   ]
  },
  {
   "cell_type": "markdown",
   "metadata": {},
   "source": [
    "### Transactions per Cycle\n",
    "\n",
    "1. Most transactions have been done in later cycles and also observed in settlements made in later cycles. Explains that APS has grown in popularity of late or just that the existing customers have had larger amounts to spend.\n",
    "\n",
    "2. Cycle 22 dominates the charts with heavy presence of merchant 1 as previously noted.\n",
    "\n",
    "3. A consistent trend of transactions has been observed in the last few cycles."
   ]
  },
  {
   "cell_type": "code",
   "execution_count": 52,
   "metadata": {},
   "outputs": [
    {
     "data": {
      "text/html": [
       "<div>\n",
       "<style scoped>\n",
       "    .dataframe tbody tr th:only-of-type {\n",
       "        vertical-align: middle;\n",
       "    }\n",
       "\n",
       "    .dataframe tbody tr th {\n",
       "        vertical-align: top;\n",
       "    }\n",
       "\n",
       "    .dataframe thead th {\n",
       "        text-align: right;\n",
       "    }\n",
       "</style>\n",
       "<table border=\"1\" class=\"dataframe\">\n",
       "  <thead>\n",
       "    <tr style=\"text-align: right;\">\n",
       "      <th></th>\n",
       "      <th>transaction_amount</th>\n",
       "    </tr>\n",
       "    <tr>\n",
       "      <th>cycle_id</th>\n",
       "      <th></th>\n",
       "    </tr>\n",
       "  </thead>\n",
       "  <tbody>\n",
       "    <tr>\n",
       "      <th>0</th>\n",
       "      <td>9400</td>\n",
       "    </tr>\n",
       "    <tr>\n",
       "      <th>3</th>\n",
       "      <td>4000</td>\n",
       "    </tr>\n",
       "    <tr>\n",
       "      <th>4</th>\n",
       "      <td>7000</td>\n",
       "    </tr>\n",
       "    <tr>\n",
       "      <th>5</th>\n",
       "      <td>81900</td>\n",
       "    </tr>\n",
       "    <tr>\n",
       "      <th>6</th>\n",
       "      <td>391600</td>\n",
       "    </tr>\n",
       "  </tbody>\n",
       "</table>\n",
       "</div>"
      ],
      "text/plain": [
       "          transaction_amount\n",
       "cycle_id                    \n",
       "0                       9400\n",
       "3                       4000\n",
       "4                       7000\n",
       "5                      81900\n",
       "6                     391600"
      ]
     },
     "execution_count": 52,
     "metadata": {},
     "output_type": "execute_result"
    }
   ],
   "source": [
    "l1 = transactions.groupby(['cycle_id'])[['transaction_amount']].sum()\n",
    "l1.head()"
   ]
  },
  {
   "cell_type": "code",
   "execution_count": 53,
   "metadata": {},
   "outputs": [
    {
     "data": {
      "text/plain": [
       "<matplotlib.axes._subplots.AxesSubplot at 0x7fa4ec382780>"
      ]
     },
     "execution_count": 53,
     "metadata": {},
     "output_type": "execute_result"
    },
    {
     "data": {
      "image/png": "[encoded data removed]",
      "text/plain": [
       "<Figure size 1058.4x739.44 with 1 Axes>"
      ]
     },
     "metadata": {},
     "output_type": "display_data"
    }
   ],
   "source": [
    "sns.scatterplot(x=transactions.cycle_id, y=transactions.transaction_amount, hue=transactions.merchant_id, palette='Set1')"
   ]
  },
  {
   "cell_type": "code",
   "execution_count": 54,
   "metadata": {},
   "outputs": [
    {
     "data": {
      "text/html": [
       "<div>\n",
       "<style scoped>\n",
       "    .dataframe tbody tr th:only-of-type {\n",
       "        vertical-align: middle;\n",
       "    }\n",
       "\n",
       "    .dataframe tbody tr th {\n",
       "        vertical-align: top;\n",
       "    }\n",
       "\n",
       "    .dataframe thead th {\n",
       "        text-align: right;\n",
       "    }\n",
       "</style>\n",
       "<table border=\"1\" class=\"dataframe\">\n",
       "  <thead>\n",
       "    <tr style=\"text-align: right;\">\n",
       "      <th></th>\n",
       "      <th>transaction_amount</th>\n",
       "    </tr>\n",
       "    <tr>\n",
       "      <th>user_id</th>\n",
       "      <th></th>\n",
       "    </tr>\n",
       "  </thead>\n",
       "  <tbody>\n",
       "    <tr>\n",
       "      <th>1</th>\n",
       "      <td>208300</td>\n",
       "    </tr>\n",
       "    <tr>\n",
       "      <th>2</th>\n",
       "      <td>975079</td>\n",
       "    </tr>\n",
       "    <tr>\n",
       "      <th>4</th>\n",
       "      <td>173800</td>\n",
       "    </tr>\n",
       "    <tr>\n",
       "      <th>5</th>\n",
       "      <td>112600</td>\n",
       "    </tr>\n",
       "    <tr>\n",
       "      <th>6</th>\n",
       "      <td>1123286</td>\n",
       "    </tr>\n",
       "  </tbody>\n",
       "</table>\n",
       "</div>"
      ],
      "text/plain": [
       "         transaction_amount\n",
       "user_id                    \n",
       "1                    208300\n",
       "2                    975079\n",
       "4                    173800\n",
       "5                    112600\n",
       "6                   1123286"
      ]
     },
     "execution_count": 54,
     "metadata": {},
     "output_type": "execute_result"
    }
   ],
   "source": [
    "l1 = transactions.groupby(['user_id'])[['transaction_amount']].sum()\n",
    "l1.head()"
   ]
  },
  {
   "cell_type": "code",
   "execution_count": 55,
   "metadata": {},
   "outputs": [
    {
     "data": {
      "text/html": [
       "<div>\n",
       "<style scoped>\n",
       "    .dataframe tbody tr th:only-of-type {\n",
       "        vertical-align: middle;\n",
       "    }\n",
       "\n",
       "    .dataframe tbody tr th {\n",
       "        vertical-align: top;\n",
       "    }\n",
       "\n",
       "    .dataframe thead th {\n",
       "        text-align: right;\n",
       "    }\n",
       "</style>\n",
       "<table border=\"1\" class=\"dataframe\">\n",
       "  <thead>\n",
       "    <tr style=\"text-align: right;\">\n",
       "      <th></th>\n",
       "      <th></th>\n",
       "      <th>transaction_amount</th>\n",
       "      <th>settlement_amount</th>\n",
       "    </tr>\n",
       "    <tr>\n",
       "      <th>user_id</th>\n",
       "      <th>cycle_id</th>\n",
       "      <th></th>\n",
       "      <th></th>\n",
       "    </tr>\n",
       "  </thead>\n",
       "  <tbody>\n",
       "    <tr>\n",
       "      <th rowspan=\"3\" valign=\"top\">1</th>\n",
       "      <th>14.0</th>\n",
       "      <td>67200.0</td>\n",
       "      <td>67200.0</td>\n",
       "    </tr>\n",
       "    <tr>\n",
       "      <th>15.0</th>\n",
       "      <td>32500.0</td>\n",
       "      <td>32500.0</td>\n",
       "    </tr>\n",
       "    <tr>\n",
       "      <th>18.0</th>\n",
       "      <td>108600.0</td>\n",
       "      <td>108600.0</td>\n",
       "    </tr>\n",
       "    <tr>\n",
       "      <th rowspan=\"2\" valign=\"top\">2</th>\n",
       "      <th>5.0</th>\n",
       "      <td>13000.0</td>\n",
       "      <td>13000.0</td>\n",
       "    </tr>\n",
       "    <tr>\n",
       "      <th>6.0</th>\n",
       "      <td>21000.0</td>\n",
       "      <td>0.0</td>\n",
       "    </tr>\n",
       "  </tbody>\n",
       "</table>\n",
       "</div>"
      ],
      "text/plain": [
       "                  transaction_amount  settlement_amount\n",
       "user_id cycle_id                                       \n",
       "1       14.0                 67200.0            67200.0\n",
       "        15.0                 32500.0            32500.0\n",
       "        18.0                108600.0           108600.0\n",
       "2       5.0                  13000.0            13000.0\n",
       "        6.0                  21000.0                0.0"
      ]
     },
     "execution_count": 55,
     "metadata": {},
     "output_type": "execute_result"
    }
   ],
   "source": [
    "l3.head()"
   ]
  },
  {
   "cell_type": "markdown",
   "metadata": {},
   "source": [
    "## Failures Analysis"
   ]
  },
  {
   "cell_type": "markdown",
   "metadata": {},
   "source": [
    "#### Types of failures observed with varying transaction amounts\n",
    "\n",
    "1. Failure error 3 & 2 are observed when transacting big amounts.\n",
    "\n",
    "2. Failure error 1, 2, 3 are observed more frequently than 4, 5, 6."
   ]
  },
  {
   "cell_type": "code",
   "execution_count": 56,
   "metadata": {},
   "outputs": [
    {
     "data": {
      "image/png": "[encoded data removed]",
      "text/plain": [
       "<Figure size 360x360 with 1 Axes>"
      ]
     },
     "metadata": {},
     "output_type": "display_data"
    }
   ],
   "source": [
    "sns.catplot(x=\"failure_type\", y=\"amount_in_paise\", palette=\"ch:.25\", data=failure);"
   ]
  },
  {
   "cell_type": "code",
   "execution_count": 57,
   "metadata": {},
   "outputs": [],
   "source": [
    "# Removing the outlier\n",
    "failure = failure[failure.amount_in_paise != 10454900]"
   ]
  },
  {
   "cell_type": "code",
   "execution_count": 58,
   "metadata": {},
   "outputs": [
    {
     "data": {
      "text/plain": [
       "<seaborn.axisgrid.FacetGrid at 0x7fa4f294e8d0>"
      ]
     },
     "execution_count": 58,
     "metadata": {},
     "output_type": "execute_result"
    },
    {
     "data": {
      "image/png": "[encoded data removed]",
      "text/plain": [
       "<Figure size 360x360 with 1 Axes>"
      ]
     },
     "metadata": {},
     "output_type": "display_data"
    }
   ],
   "source": [
    "sns.catplot(x=\"failure_type\", y=\"amount_in_paise\", palette=\"ch:.25\", data=failure)"
   ]
  },
  {
   "cell_type": "markdown",
   "metadata": {},
   "source": [
    "### Transactions from different cities\n",
    "\n",
    "1. Observation from the scatterplot is that high number of transactions are being made from cities 1-10, especially 1, 3, 5.\n",
    "\n",
    "2. A somewhat decreasing trend continues from cities 10-50 and then cities 50 and so on, a consistent pattern of transactions below 50,000 with a few outliers."
   ]
  },
  {
   "cell_type": "code",
   "execution_count": 59,
   "metadata": {},
   "outputs": [
    {
     "data": {
      "text/html": [
       "<div>\n",
       "<style scoped>\n",
       "    .dataframe tbody tr th:only-of-type {\n",
       "        vertical-align: middle;\n",
       "    }\n",
       "\n",
       "    .dataframe tbody tr th {\n",
       "        vertical-align: top;\n",
       "    }\n",
       "\n",
       "    .dataframe thead th {\n",
       "        text-align: right;\n",
       "    }\n",
       "</style>\n",
       "<table border=\"1\" class=\"dataframe\">\n",
       "  <thead>\n",
       "    <tr style=\"text-align: right;\">\n",
       "      <th></th>\n",
       "      <th>transaction_amount</th>\n",
       "      <th>cycle_id</th>\n",
       "      <th>city_id</th>\n",
       "    </tr>\n",
       "    <tr>\n",
       "      <th>user_id</th>\n",
       "      <th></th>\n",
       "      <th></th>\n",
       "      <th></th>\n",
       "    </tr>\n",
       "  </thead>\n",
       "  <tbody>\n",
       "    <tr>\n",
       "      <th>1</th>\n",
       "      <td>208300.0</td>\n",
       "      <td>93.0</td>\n",
       "      <td>4.0</td>\n",
       "    </tr>\n",
       "    <tr>\n",
       "      <th>2</th>\n",
       "      <td>975079.0</td>\n",
       "      <td>570.0</td>\n",
       "      <td>7.0</td>\n",
       "    </tr>\n",
       "    <tr>\n",
       "      <th>4</th>\n",
       "      <td>173800.0</td>\n",
       "      <td>198.0</td>\n",
       "      <td>3.0</td>\n",
       "    </tr>\n",
       "    <tr>\n",
       "      <th>5</th>\n",
       "      <td>112600.0</td>\n",
       "      <td>64.0</td>\n",
       "      <td>7.0</td>\n",
       "    </tr>\n",
       "    <tr>\n",
       "      <th>6</th>\n",
       "      <td>1123286.0</td>\n",
       "      <td>485.0</td>\n",
       "      <td>154.0</td>\n",
       "    </tr>\n",
       "  </tbody>\n",
       "</table>\n",
       "</div>"
      ],
      "text/plain": [
       "         transaction_amount  cycle_id  city_id\n",
       "user_id                                       \n",
       "1                  208300.0      93.0      4.0\n",
       "2                  975079.0     570.0      7.0\n",
       "4                  173800.0     198.0      3.0\n",
       "5                  112600.0      64.0      7.0\n",
       "6                 1123286.0     485.0    154.0"
      ]
     },
     "execution_count": 59,
     "metadata": {},
     "output_type": "execute_result"
    }
   ],
   "source": [
    "l1 = transactions.groupby(['user_id'])[['transaction_amount', 'cycle_id']].sum()\n",
    "ci = users.groupby(['user_id'])[['city_id']].sum()\n",
    "city = pd.concat([l1, ci],axis=1)\n",
    "city = city.dropna()\n",
    "city.head()"
   ]
  },
  {
   "cell_type": "code",
   "execution_count": 60,
   "metadata": {},
   "outputs": [
    {
     "data": {
      "text/html": [
       "<div>\n",
       "<style scoped>\n",
       "    .dataframe tbody tr th:only-of-type {\n",
       "        vertical-align: middle;\n",
       "    }\n",
       "\n",
       "    .dataframe tbody tr th {\n",
       "        vertical-align: top;\n",
       "    }\n",
       "\n",
       "    .dataframe thead th {\n",
       "        text-align: right;\n",
       "    }\n",
       "</style>\n",
       "<table border=\"1\" class=\"dataframe\">\n",
       "  <thead>\n",
       "    <tr style=\"text-align: right;\">\n",
       "      <th></th>\n",
       "      <th>city_id</th>\n",
       "      <th>transaction_amount</th>\n",
       "    </tr>\n",
       "    <tr>\n",
       "      <th>user_id</th>\n",
       "      <th></th>\n",
       "      <th></th>\n",
       "    </tr>\n",
       "  </thead>\n",
       "  <tbody>\n",
       "    <tr>\n",
       "      <th>3346</th>\n",
       "      <td>1.0</td>\n",
       "      <td>2874600.0</td>\n",
       "    </tr>\n",
       "    <tr>\n",
       "      <th>12</th>\n",
       "      <td>3.0</td>\n",
       "      <td>2733600.0</td>\n",
       "    </tr>\n",
       "    <tr>\n",
       "      <th>975</th>\n",
       "      <td>3.0</td>\n",
       "      <td>2617300.0</td>\n",
       "    </tr>\n",
       "    <tr>\n",
       "      <th>3392</th>\n",
       "      <td>1.0</td>\n",
       "      <td>2572300.0</td>\n",
       "    </tr>\n",
       "    <tr>\n",
       "      <th>17</th>\n",
       "      <td>3.0</td>\n",
       "      <td>2546700.0</td>\n",
       "    </tr>\n",
       "  </tbody>\n",
       "</table>\n",
       "</div>"
      ],
      "text/plain": [
       "         city_id  transaction_amount\n",
       "user_id                             \n",
       "3346         1.0           2874600.0\n",
       "12           3.0           2733600.0\n",
       "975          3.0           2617300.0\n",
       "3392         1.0           2572300.0\n",
       "17           3.0           2546700.0"
      ]
     },
     "execution_count": 60,
     "metadata": {},
     "output_type": "execute_result"
    }
   ],
   "source": [
    "city[['city_id', 'transaction_amount']].nlargest(5,columns = ['transaction_amount'])"
   ]
  },
  {
   "cell_type": "code",
   "execution_count": 61,
   "metadata": {},
   "outputs": [
    {
     "data": {
      "text/plain": [
       "<matplotlib.axes._subplots.AxesSubplot at 0x7fa4ec01f2b0>"
      ]
     },
     "execution_count": 61,
     "metadata": {},
     "output_type": "execute_result"
    },
    {
     "data": {
      "image/png": "[encoded data removed]",
      "text/plain": [
       "<Figure size 1058.4x739.44 with 1 Axes>"
      ]
     },
     "metadata": {},
     "output_type": "display_data"
    }
   ],
   "source": [
    "sns.scatterplot(x=\"city_id\", y=\"transaction_amount\", palette=\"Set2\", data=city)"
   ]
  },
  {
   "cell_type": "markdown",
   "metadata": {},
   "source": [
    "### Referrers vs Transactions\n",
    "\n",
    "1. Referrer a, e have suggested to make bigger transactions.\n",
    "\n",
    "2. Referrer b, m , n, o have made really low amounts of transactions and very few of those."
   ]
  },
  {
   "cell_type": "code",
   "execution_count": 63,
   "metadata": {},
   "outputs": [
    {
     "data": {
      "text/html": [
       "<div>\n",
       "<style scoped>\n",
       "    .dataframe tbody tr th:only-of-type {\n",
       "        vertical-align: middle;\n",
       "    }\n",
       "\n",
       "    .dataframe tbody tr th {\n",
       "        vertical-align: top;\n",
       "    }\n",
       "\n",
       "    .dataframe thead th {\n",
       "        text-align: right;\n",
       "    }\n",
       "</style>\n",
       "<table border=\"1\" class=\"dataframe\">\n",
       "  <thead>\n",
       "    <tr style=\"text-align: right;\">\n",
       "      <th></th>\n",
       "      <th>transaction_amount</th>\n",
       "      <th>referrer</th>\n",
       "    </tr>\n",
       "    <tr>\n",
       "      <th>user_id</th>\n",
       "      <th></th>\n",
       "      <th></th>\n",
       "    </tr>\n",
       "  </thead>\n",
       "  <tbody>\n",
       "    <tr>\n",
       "      <th>1</th>\n",
       "      <td>208300.0</td>\n",
       "      <td>a</td>\n",
       "    </tr>\n",
       "    <tr>\n",
       "      <th>2</th>\n",
       "      <td>975079.0</td>\n",
       "      <td>a</td>\n",
       "    </tr>\n",
       "    <tr>\n",
       "      <th>4</th>\n",
       "      <td>173800.0</td>\n",
       "      <td>a</td>\n",
       "    </tr>\n",
       "    <tr>\n",
       "      <th>5</th>\n",
       "      <td>112600.0</td>\n",
       "      <td>a</td>\n",
       "    </tr>\n",
       "    <tr>\n",
       "      <th>6</th>\n",
       "      <td>1123286.0</td>\n",
       "      <td>a</td>\n",
       "    </tr>\n",
       "  </tbody>\n",
       "</table>\n",
       "</div>"
      ],
      "text/plain": [
       "         transaction_amount referrer\n",
       "user_id                             \n",
       "1                  208300.0        a\n",
       "2                  975079.0        a\n",
       "4                  173800.0        a\n",
       "5                  112600.0        a\n",
       "6                 1123286.0        a"
      ]
     },
     "execution_count": 63,
     "metadata": {},
     "output_type": "execute_result"
    }
   ],
   "source": [
    "l1 = transactions.groupby(['user_id'])[['transaction_amount']].sum()\n",
    "ref = users.groupby(['user_id'])[['referrer']].sum()\n",
    "referral = pd.concat([l1, ref],axis=1)\n",
    "referral = referral.dropna()\n",
    "referral.head()"
   ]
  },
  {
   "cell_type": "code",
   "execution_count": 64,
   "metadata": {},
   "outputs": [
    {
     "data": {
      "text/plain": [
       "<seaborn.axisgrid.FacetGrid at 0x7fa4f0c81c18>"
      ]
     },
     "execution_count": 64,
     "metadata": {},
     "output_type": "execute_result"
    },
    {
     "data": {
      "image/png": "[encoded data removed]",
      "text/plain": [
       "<Figure size 360x360 with 1 Axes>"
      ]
     },
     "metadata": {},
     "output_type": "display_data"
    }
   ],
   "source": [
    "sns.catplot(x=\"referrer\", y=\"transaction_amount\", palette=\"ch:1.15\", data=referral)"
   ]
  },
  {
   "cell_type": "markdown",
   "metadata": {},
   "source": [
    "## Merging Datasets and Preparing Train, Test DataFrames\n",
    "\n",
    "I've tried to understand the datasets as they are created along the way to keep in check if they are being merged properly without causing a lot of NaNs.\n",
    "\n",
    "Again, this part might not be relevant to you and might seem redundant/boring so move along if you want."
   ]
  },
  {
   "cell_type": "markdown",
   "metadata": {},
   "source": [
    "### Replacing Nominal Values in Failures and Settlements"
   ]
  },
  {
   "cell_type": "code",
   "execution_count": 70,
   "metadata": {},
   "outputs": [],
   "source": [
    "clean = { 'error1':1, 'error2':2, 'error3':3, 'error4':4, 'error5':5, 'error6':6}\n",
    "failure.failure_type.replace(clean, inplace=True)\n",
    "\n",
    "clean = { 'bill_settled': 0, 'onetime_settlement': 1, 'bill_pending': 2}\n",
    "settlements.settlement_status.replace(clean, inplace=True)"
   ]
  },
  {
   "cell_type": "code",
   "execution_count": 110,
   "metadata": {},
   "outputs": [],
   "source": [
    "clean = { 'a':0, 'b':2, 'c':3, 'd':4, 'e':5, 'f':6, 'g':7, 'h':8, 'i':9, 'k':10, 'l':11, 'j':12, 'm':13, 'n':14, 'o':15, 'nan':16}\n",
    "users.referrer.replace(clean, inplace=True)"
   ]
  },
  {
   "cell_type": "code",
   "execution_count": 80,
   "metadata": {},
   "outputs": [
    {
     "data": {
      "text/html": [
       "<div>\n",
       "<style scoped>\n",
       "    .dataframe tbody tr th:only-of-type {\n",
       "        vertical-align: middle;\n",
       "    }\n",
       "\n",
       "    .dataframe tbody tr th {\n",
       "        vertical-align: top;\n",
       "    }\n",
       "\n",
       "    .dataframe thead th {\n",
       "        text-align: right;\n",
       "    }\n",
       "</style>\n",
       "<table border=\"1\" class=\"dataframe\">\n",
       "  <thead>\n",
       "    <tr style=\"text-align: right;\">\n",
       "      <th></th>\n",
       "      <th>transaction_amount</th>\n",
       "      <th>city_id</th>\n",
       "      <th>cycle_id</th>\n",
       "      <th>referrer</th>\n",
       "      <th>failure_type</th>\n",
       "      <th>amount_in_paise</th>\n",
       "      <th>settlement_amount</th>\n",
       "    </tr>\n",
       "    <tr>\n",
       "      <th>user_id</th>\n",
       "      <th></th>\n",
       "      <th></th>\n",
       "      <th></th>\n",
       "      <th></th>\n",
       "      <th></th>\n",
       "      <th></th>\n",
       "      <th></th>\n",
       "    </tr>\n",
       "  </thead>\n",
       "  <tbody>\n",
       "    <tr>\n",
       "      <th>1</th>\n",
       "      <td>208300.0</td>\n",
       "      <td>4.0</td>\n",
       "      <td>15.500000</td>\n",
       "      <td>0.0</td>\n",
       "      <td>1.000000</td>\n",
       "      <td>22400.000000</td>\n",
       "      <td>208300.0</td>\n",
       "    </tr>\n",
       "    <tr>\n",
       "      <th>2</th>\n",
       "      <td>975079.0</td>\n",
       "      <td>7.0</td>\n",
       "      <td>13.902439</td>\n",
       "      <td>0.0</td>\n",
       "      <td>1.928571</td>\n",
       "      <td>21644.714286</td>\n",
       "      <td>944079.0</td>\n",
       "    </tr>\n",
       "    <tr>\n",
       "      <th>4</th>\n",
       "      <td>173800.0</td>\n",
       "      <td>3.0</td>\n",
       "      <td>15.230769</td>\n",
       "      <td>0.0</td>\n",
       "      <td>2.000000</td>\n",
       "      <td>27100.000000</td>\n",
       "      <td>172800.0</td>\n",
       "    </tr>\n",
       "    <tr>\n",
       "      <th>5</th>\n",
       "      <td>112600.0</td>\n",
       "      <td>7.0</td>\n",
       "      <td>12.800000</td>\n",
       "      <td>0.0</td>\n",
       "      <td>1.833333</td>\n",
       "      <td>15000.000000</td>\n",
       "      <td>91600.0</td>\n",
       "    </tr>\n",
       "    <tr>\n",
       "      <th>6</th>\n",
       "      <td>1123286.0</td>\n",
       "      <td>154.0</td>\n",
       "      <td>13.472222</td>\n",
       "      <td>0.0</td>\n",
       "      <td>2.000000</td>\n",
       "      <td>40642.857143</td>\n",
       "      <td>711564.0</td>\n",
       "    </tr>\n",
       "  </tbody>\n",
       "</table>\n",
       "</div>"
      ],
      "text/plain": [
       "         transaction_amount  city_id   cycle_id  referrer  failure_type  \\\n",
       "user_id                                                                   \n",
       "1                  208300.0      4.0  15.500000       0.0      1.000000   \n",
       "2                  975079.0      7.0  13.902439       0.0      1.928571   \n",
       "4                  173800.0      3.0  15.230769       0.0      2.000000   \n",
       "5                  112600.0      7.0  12.800000       0.0      1.833333   \n",
       "6                 1123286.0    154.0  13.472222       0.0      2.000000   \n",
       "\n",
       "         amount_in_paise  settlement_amount  \n",
       "user_id                                      \n",
       "1           22400.000000           208300.0  \n",
       "2           21644.714286           944079.0  \n",
       "4           27100.000000           172800.0  \n",
       "5           15000.000000            91600.0  \n",
       "6           40642.857143           711564.0  "
      ]
     },
     "execution_count": 80,
     "metadata": {},
     "output_type": "execute_result"
    }
   ],
   "source": [
    "l1 = settlements.groupby(['user_id'])[['settlement_amount']].sum()\n",
    "train = pd.concat([fail, l1],axis=1)\n",
    "train = train.dropna()\n",
    "train.head()"
   ]
  },
  {
   "cell_type": "code",
   "execution_count": 81,
   "metadata": {},
   "outputs": [
    {
     "data": {
      "text/plain": [
       "(4882, 7)"
      ]
     },
     "execution_count": 81,
     "metadata": {},
     "output_type": "execute_result"
    }
   ],
   "source": [
    "train.shape"
   ]
  },
  {
   "cell_type": "markdown",
   "metadata": {},
   "source": [
    "#### The size of training reduced a lot on merging multiple DataFrames which would be a disaster while doing predictions, I'm not sure if I'm 100% correct in not choosing this method because I feel there should be a better way to do this. "
   ]
  },
  {
   "cell_type": "markdown",
   "metadata": {},
   "source": [
    "#### Start again, by merging transactions DataFrame"
   ]
  },
  {
   "cell_type": "code",
   "execution_count": 82,
   "metadata": {},
   "outputs": [
    {
     "data": {
      "text/html": [
       "<div>\n",
       "<style scoped>\n",
       "    .dataframe tbody tr th:only-of-type {\n",
       "        vertical-align: middle;\n",
       "    }\n",
       "\n",
       "    .dataframe tbody tr th {\n",
       "        vertical-align: top;\n",
       "    }\n",
       "\n",
       "    .dataframe thead th {\n",
       "        text-align: right;\n",
       "    }\n",
       "</style>\n",
       "<table border=\"1\" class=\"dataframe\">\n",
       "  <thead>\n",
       "    <tr style=\"text-align: right;\">\n",
       "      <th></th>\n",
       "      <th>transaction_id</th>\n",
       "      <th>user_id</th>\n",
       "      <th>merchant_id</th>\n",
       "      <th>transaction_amount</th>\n",
       "      <th>created_at</th>\n",
       "      <th>cycle_id</th>\n",
       "    </tr>\n",
       "  </thead>\n",
       "  <tbody>\n",
       "    <tr>\n",
       "      <th>0</th>\n",
       "      <td>141695</td>\n",
       "      <td>13693</td>\n",
       "      <td>1</td>\n",
       "      <td>10100</td>\n",
       "      <td>2016-09-30 15:29:10.228672 +0000 +0000</td>\n",
       "      <td>22</td>\n",
       "    </tr>\n",
       "    <tr>\n",
       "      <th>1</th>\n",
       "      <td>141694</td>\n",
       "      <td>8166</td>\n",
       "      <td>1</td>\n",
       "      <td>20900</td>\n",
       "      <td>2016-09-30 15:29:00.286923 +0000 +0000</td>\n",
       "      <td>22</td>\n",
       "    </tr>\n",
       "    <tr>\n",
       "      <th>2</th>\n",
       "      <td>141688</td>\n",
       "      <td>15886</td>\n",
       "      <td>1</td>\n",
       "      <td>28100</td>\n",
       "      <td>2016-09-30 15:27:55.801021 +0000 +0000</td>\n",
       "      <td>22</td>\n",
       "    </tr>\n",
       "    <tr>\n",
       "      <th>3</th>\n",
       "      <td>141686</td>\n",
       "      <td>12014</td>\n",
       "      <td>8</td>\n",
       "      <td>18000</td>\n",
       "      <td>2016-09-30 15:27:17.891471 +0000 +0000</td>\n",
       "      <td>22</td>\n",
       "    </tr>\n",
       "    <tr>\n",
       "      <th>4</th>\n",
       "      <td>141684</td>\n",
       "      <td>12392</td>\n",
       "      <td>1</td>\n",
       "      <td>63500</td>\n",
       "      <td>2016-09-30 15:25:56.857979 +0000 +0000</td>\n",
       "      <td>22</td>\n",
       "    </tr>\n",
       "  </tbody>\n",
       "</table>\n",
       "</div>"
      ],
      "text/plain": [
       "   transaction_id  user_id  merchant_id  transaction_amount  \\\n",
       "0          141695    13693            1               10100   \n",
       "1          141694     8166            1               20900   \n",
       "2          141688    15886            1               28100   \n",
       "3          141686    12014            8               18000   \n",
       "4          141684    12392            1               63500   \n",
       "\n",
       "                               created_at  cycle_id  \n",
       "0  2016-09-30 15:29:10.228672 +0000 +0000        22  \n",
       "1  2016-09-30 15:29:00.286923 +0000 +0000        22  \n",
       "2  2016-09-30 15:27:55.801021 +0000 +0000        22  \n",
       "3  2016-09-30 15:27:17.891471 +0000 +0000        22  \n",
       "4  2016-09-30 15:25:56.857979 +0000 +0000        22  "
      ]
     },
     "execution_count": 82,
     "metadata": {},
     "output_type": "execute_result"
    }
   ],
   "source": [
    "transactions.head()"
   ]
  },
  {
   "cell_type": "code",
   "execution_count": 83,
   "metadata": {},
   "outputs": [
    {
     "data": {
      "text/plain": [
       "(73731, 6)"
      ]
     },
     "execution_count": 83,
     "metadata": {},
     "output_type": "execute_result"
    }
   ],
   "source": [
    "transactions.shape"
   ]
  },
  {
   "cell_type": "code",
   "execution_count": 185,
   "metadata": {},
   "outputs": [
    {
     "data": {
      "text/html": [
       "<div>\n",
       "<style scoped>\n",
       "    .dataframe tbody tr th:only-of-type {\n",
       "        vertical-align: middle;\n",
       "    }\n",
       "\n",
       "    .dataframe tbody tr th {\n",
       "        vertical-align: top;\n",
       "    }\n",
       "\n",
       "    .dataframe thead th {\n",
       "        text-align: right;\n",
       "    }\n",
       "</style>\n",
       "<table border=\"1\" class=\"dataframe\">\n",
       "  <thead>\n",
       "    <tr style=\"text-align: right;\">\n",
       "      <th></th>\n",
       "      <th>transaction_id</th>\n",
       "      <th>user_id</th>\n",
       "      <th>merchant_id</th>\n",
       "      <th>transaction_amount</th>\n",
       "      <th>created_at</th>\n",
       "      <th>cycle_id</th>\n",
       "      <th>referrer</th>\n",
       "      <th>email</th>\n",
       "      <th>name</th>\n",
       "      <th>city_id</th>\n",
       "    </tr>\n",
       "  </thead>\n",
       "  <tbody>\n",
       "    <tr>\n",
       "      <th>0</th>\n",
       "      <td>141695</td>\n",
       "      <td>13693</td>\n",
       "      <td>1</td>\n",
       "      <td>10100</td>\n",
       "      <td>2016-09-30 15:29:10.228672 +0000 +0000</td>\n",
       "      <td>22</td>\n",
       "      <td>0.0</td>\n",
       "      <td>13693@1.com</td>\n",
       "      <td>hra</td>\n",
       "      <td>5.0</td>\n",
       "    </tr>\n",
       "    <tr>\n",
       "      <th>1</th>\n",
       "      <td>129337</td>\n",
       "      <td>13693</td>\n",
       "      <td>1</td>\n",
       "      <td>18000</td>\n",
       "      <td>2016-09-18 07:44:57.65645 +0000 +0000</td>\n",
       "      <td>22</td>\n",
       "      <td>0.0</td>\n",
       "      <td>13693@1.com</td>\n",
       "      <td>hra</td>\n",
       "      <td>5.0</td>\n",
       "    </tr>\n",
       "    <tr>\n",
       "      <th>2</th>\n",
       "      <td>125843</td>\n",
       "      <td>13693</td>\n",
       "      <td>1</td>\n",
       "      <td>33200</td>\n",
       "      <td>2016-09-15 15:48:45.250271 +0000 +0000</td>\n",
       "      <td>22</td>\n",
       "      <td>0.0</td>\n",
       "      <td>13693@1.com</td>\n",
       "      <td>hra</td>\n",
       "      <td>5.0</td>\n",
       "    </tr>\n",
       "    <tr>\n",
       "      <th>3</th>\n",
       "      <td>125006</td>\n",
       "      <td>13693</td>\n",
       "      <td>1</td>\n",
       "      <td>14800</td>\n",
       "      <td>2016-09-14 16:50:54.375629 +0000 +0000</td>\n",
       "      <td>21</td>\n",
       "      <td>0.0</td>\n",
       "      <td>13693@1.com</td>\n",
       "      <td>hra</td>\n",
       "      <td>5.0</td>\n",
       "    </tr>\n",
       "    <tr>\n",
       "      <th>4</th>\n",
       "      <td>123303</td>\n",
       "      <td>13693</td>\n",
       "      <td>1</td>\n",
       "      <td>10100</td>\n",
       "      <td>2016-09-12 15:25:05.278552 +0000 +0000</td>\n",
       "      <td>21</td>\n",
       "      <td>0.0</td>\n",
       "      <td>13693@1.com</td>\n",
       "      <td>hra</td>\n",
       "      <td>5.0</td>\n",
       "    </tr>\n",
       "  </tbody>\n",
       "</table>\n",
       "</div>"
      ],
      "text/plain": [
       "   transaction_id  user_id  merchant_id  transaction_amount  \\\n",
       "0          141695    13693            1               10100   \n",
       "1          129337    13693            1               18000   \n",
       "2          125843    13693            1               33200   \n",
       "3          125006    13693            1               14800   \n",
       "4          123303    13693            1               10100   \n",
       "\n",
       "                               created_at  cycle_id  referrer        email  \\\n",
       "0  2016-09-30 15:29:10.228672 +0000 +0000        22       0.0  13693@1.com   \n",
       "1   2016-09-18 07:44:57.65645 +0000 +0000        22       0.0  13693@1.com   \n",
       "2  2016-09-15 15:48:45.250271 +0000 +0000        22       0.0  13693@1.com   \n",
       "3  2016-09-14 16:50:54.375629 +0000 +0000        21       0.0  13693@1.com   \n",
       "4  2016-09-12 15:25:05.278552 +0000 +0000        21       0.0  13693@1.com   \n",
       "\n",
       "  name  city_id  \n",
       "0  hra      5.0  \n",
       "1  hra      5.0  \n",
       "2  hra      5.0  \n",
       "3  hra      5.0  \n",
       "4  hra      5.0  "
      ]
     },
     "execution_count": 185,
     "metadata": {},
     "output_type": "execute_result"
    }
   ],
   "source": [
    "t1 = pd.merge(transactions,users,left_on='user_id',right_on='user_id')\n",
    "t1.head()"
   ]
  },
  {
   "cell_type": "code",
   "execution_count": 184,
   "metadata": {},
   "outputs": [
    {
     "data": {
      "text/plain": [
       "Index(['user_id', 'merchant_id', 'transaction_amount', 'cycle_id', 'referrer',\n",
       "       'city_id'],\n",
       "      dtype='object')"
      ]
     },
     "execution_count": 184,
     "metadata": {},
     "output_type": "execute_result"
    }
   ],
   "source": [
    "t1 = t1.drop(columns = ['created_at', 'email', 'name', 'transaction_id'])\n",
    "t1.columns"
   ]
  },
  {
   "cell_type": "code",
   "execution_count": 170,
   "metadata": {},
   "outputs": [
    {
     "data": {
      "text/html": [
       "<div>\n",
       "<style scoped>\n",
       "    .dataframe tbody tr th:only-of-type {\n",
       "        vertical-align: middle;\n",
       "    }\n",
       "\n",
       "    .dataframe tbody tr th {\n",
       "        vertical-align: top;\n",
       "    }\n",
       "\n",
       "    .dataframe thead th {\n",
       "        text-align: right;\n",
       "    }\n",
       "</style>\n",
       "<table border=\"1\" class=\"dataframe\">\n",
       "  <thead>\n",
       "    <tr style=\"text-align: right;\">\n",
       "      <th></th>\n",
       "      <th>user_id</th>\n",
       "      <th>merchant_id</th>\n",
       "      <th>transaction_amount</th>\n",
       "      <th>cycle_id</th>\n",
       "      <th>referrer</th>\n",
       "      <th>city_id</th>\n",
       "    </tr>\n",
       "  </thead>\n",
       "  <tbody>\n",
       "    <tr>\n",
       "      <th>0</th>\n",
       "      <td>13693</td>\n",
       "      <td>1</td>\n",
       "      <td>10100</td>\n",
       "      <td>22</td>\n",
       "      <td>0.0</td>\n",
       "      <td>5.0</td>\n",
       "    </tr>\n",
       "    <tr>\n",
       "      <th>1</th>\n",
       "      <td>13693</td>\n",
       "      <td>1</td>\n",
       "      <td>18000</td>\n",
       "      <td>22</td>\n",
       "      <td>0.0</td>\n",
       "      <td>5.0</td>\n",
       "    </tr>\n",
       "    <tr>\n",
       "      <th>2</th>\n",
       "      <td>13693</td>\n",
       "      <td>1</td>\n",
       "      <td>33200</td>\n",
       "      <td>22</td>\n",
       "      <td>0.0</td>\n",
       "      <td>5.0</td>\n",
       "    </tr>\n",
       "    <tr>\n",
       "      <th>3</th>\n",
       "      <td>13693</td>\n",
       "      <td>1</td>\n",
       "      <td>14800</td>\n",
       "      <td>21</td>\n",
       "      <td>0.0</td>\n",
       "      <td>5.0</td>\n",
       "    </tr>\n",
       "    <tr>\n",
       "      <th>4</th>\n",
       "      <td>13693</td>\n",
       "      <td>1</td>\n",
       "      <td>10100</td>\n",
       "      <td>21</td>\n",
       "      <td>0.0</td>\n",
       "      <td>5.0</td>\n",
       "    </tr>\n",
       "  </tbody>\n",
       "</table>\n",
       "</div>"
      ],
      "text/plain": [
       "   user_id  merchant_id  transaction_amount  cycle_id  referrer  city_id\n",
       "0    13693            1               10100        22       0.0      5.0\n",
       "1    13693            1               18000        22       0.0      5.0\n",
       "2    13693            1               33200        22       0.0      5.0\n",
       "3    13693            1               14800        21       0.0      5.0\n",
       "4    13693            1               10100        21       0.0      5.0"
      ]
     },
     "execution_count": 170,
     "metadata": {},
     "output_type": "execute_result"
    }
   ],
   "source": [
    "t = t1\n",
    "t.head()"
   ]
  },
  {
   "cell_type": "code",
   "execution_count": 171,
   "metadata": {},
   "outputs": [],
   "source": [
    "t1 = t.loc[t['cycle_id'] != 22]\n",
    "t2 = t.loc[t['cycle_id'] == 22]"
   ]
  },
  {
   "cell_type": "code",
   "execution_count": 172,
   "metadata": {},
   "outputs": [
    {
     "data": {
      "text/html": [
       "<div>\n",
       "<style scoped>\n",
       "    .dataframe tbody tr th:only-of-type {\n",
       "        vertical-align: middle;\n",
       "    }\n",
       "\n",
       "    .dataframe tbody tr th {\n",
       "        vertical-align: top;\n",
       "    }\n",
       "\n",
       "    .dataframe thead th {\n",
       "        text-align: right;\n",
       "    }\n",
       "</style>\n",
       "<table border=\"1\" class=\"dataframe\">\n",
       "  <thead>\n",
       "    <tr style=\"text-align: right;\">\n",
       "      <th></th>\n",
       "      <th>user_id</th>\n",
       "      <th>merchant_id</th>\n",
       "      <th>transaction_amount</th>\n",
       "      <th>cycle_id</th>\n",
       "      <th>referrer</th>\n",
       "      <th>city_id</th>\n",
       "    </tr>\n",
       "  </thead>\n",
       "  <tbody>\n",
       "    <tr>\n",
       "      <th>0</th>\n",
       "      <td>13693</td>\n",
       "      <td>1</td>\n",
       "      <td>10100</td>\n",
       "      <td>22</td>\n",
       "      <td>0.0</td>\n",
       "      <td>5.0</td>\n",
       "    </tr>\n",
       "    <tr>\n",
       "      <th>1</th>\n",
       "      <td>13693</td>\n",
       "      <td>1</td>\n",
       "      <td>18000</td>\n",
       "      <td>22</td>\n",
       "      <td>0.0</td>\n",
       "      <td>5.0</td>\n",
       "    </tr>\n",
       "    <tr>\n",
       "      <th>2</th>\n",
       "      <td>13693</td>\n",
       "      <td>1</td>\n",
       "      <td>33200</td>\n",
       "      <td>22</td>\n",
       "      <td>0.0</td>\n",
       "      <td>5.0</td>\n",
       "    </tr>\n",
       "    <tr>\n",
       "      <th>8</th>\n",
       "      <td>8166</td>\n",
       "      <td>1</td>\n",
       "      <td>20900</td>\n",
       "      <td>22</td>\n",
       "      <td>0.0</td>\n",
       "      <td>1.0</td>\n",
       "    </tr>\n",
       "    <tr>\n",
       "      <th>9</th>\n",
       "      <td>8166</td>\n",
       "      <td>1</td>\n",
       "      <td>19400</td>\n",
       "      <td>22</td>\n",
       "      <td>0.0</td>\n",
       "      <td>1.0</td>\n",
       "    </tr>\n",
       "  </tbody>\n",
       "</table>\n",
       "</div>"
      ],
      "text/plain": [
       "   user_id  merchant_id  transaction_amount  cycle_id  referrer  city_id\n",
       "0    13693            1               10100        22       0.0      5.0\n",
       "1    13693            1               18000        22       0.0      5.0\n",
       "2    13693            1               33200        22       0.0      5.0\n",
       "8     8166            1               20900        22       0.0      1.0\n",
       "9     8166            1               19400        22       0.0      1.0"
      ]
     },
     "execution_count": 172,
     "metadata": {},
     "output_type": "execute_result"
    }
   ],
   "source": [
    "t2.head()"
   ]
  },
  {
   "cell_type": "markdown",
   "metadata": {},
   "source": [
    "#### Moving to creation of x_train, y_train, x_test and making predictions"
   ]
  },
  {
   "cell_type": "code",
   "execution_count": 179,
   "metadata": {},
   "outputs": [
    {
     "data": {
      "text/html": [
       "<div>\n",
       "<style scoped>\n",
       "    .dataframe tbody tr th:only-of-type {\n",
       "        vertical-align: middle;\n",
       "    }\n",
       "\n",
       "    .dataframe tbody tr th {\n",
       "        vertical-align: top;\n",
       "    }\n",
       "\n",
       "    .dataframe thead th {\n",
       "        text-align: right;\n",
       "    }\n",
       "</style>\n",
       "<table border=\"1\" class=\"dataframe\">\n",
       "  <thead>\n",
       "    <tr style=\"text-align: right;\">\n",
       "      <th></th>\n",
       "      <th>transaction_amount</th>\n",
       "      <th>merchant_id</th>\n",
       "      <th>settlement_amount</th>\n",
       "    </tr>\n",
       "    <tr>\n",
       "      <th>user_id</th>\n",
       "      <th></th>\n",
       "      <th></th>\n",
       "      <th></th>\n",
       "    </tr>\n",
       "  </thead>\n",
       "  <tbody>\n",
       "    <tr>\n",
       "      <th>1</th>\n",
       "      <td>208300</td>\n",
       "      <td>6</td>\n",
       "      <td>208300.0</td>\n",
       "    </tr>\n",
       "    <tr>\n",
       "      <th>2</th>\n",
       "      <td>975079</td>\n",
       "      <td>173</td>\n",
       "      <td>944079.0</td>\n",
       "    </tr>\n",
       "    <tr>\n",
       "      <th>4</th>\n",
       "      <td>173800</td>\n",
       "      <td>83</td>\n",
       "      <td>172800.0</td>\n",
       "    </tr>\n",
       "    <tr>\n",
       "      <th>5</th>\n",
       "      <td>112600</td>\n",
       "      <td>25</td>\n",
       "      <td>91600.0</td>\n",
       "    </tr>\n",
       "    <tr>\n",
       "      <th>6</th>\n",
       "      <td>1123286</td>\n",
       "      <td>157</td>\n",
       "      <td>711564.0</td>\n",
       "    </tr>\n",
       "  </tbody>\n",
       "</table>\n",
       "</div>"
      ],
      "text/plain": [
       "         transaction_amount  merchant_id  settlement_amount\n",
       "user_id                                                    \n",
       "1                    208300            6           208300.0\n",
       "2                    975079          173           944079.0\n",
       "4                    173800           83           172800.0\n",
       "5                    112600           25            91600.0\n",
       "6                   1123286          157           711564.0"
      ]
     },
     "execution_count": 179,
     "metadata": {},
     "output_type": "execute_result"
    }
   ],
   "source": [
    "l1 = transactions.groupby(['user_id'])[['transaction_amount', 'merchant_id']].sum()\n",
    "\n",
    "l2 = settlements.groupby(['user_id'])[['settlement_amount']].sum()\n",
    "\n",
    "l3 = pd.concat([l1, l2],axis=1)\n",
    "\n",
    "l3.settlement_amount = l3.settlement_amount.fillna(0)\n",
    "l3.transaction_amount = l3.transaction_amount.fillna(0)\n",
    "l3.head()"
   ]
  },
  {
   "cell_type": "code",
   "execution_count": 174,
   "metadata": {},
   "outputs": [
    {
     "data": {
      "text/plain": [
       "(8666, 2)"
      ]
     },
     "execution_count": 174,
     "metadata": {},
     "output_type": "execute_result"
    }
   ],
   "source": [
    "x_test = t2[['transaction_amount', 'merchant_id']]\n",
    "x_test.shape"
   ]
  },
  {
   "cell_type": "code",
   "execution_count": 175,
   "metadata": {},
   "outputs": [],
   "source": [
    "from sklearn.ensemble import RandomForestClassifier\n",
    "clf1 = RandomForestClassifier()\n",
    "clf1.fit(l3[['transaction_amount', 'merchant_id']], l3.settlement_amount)\n",
    "test_predictions1 = clf1.predict(x_test)"
   ]
  },
  {
   "cell_type": "code",
   "execution_count": 186,
   "metadata": {},
   "outputs": [
    {
     "data": {
      "text/plain": [
       "array([    0., 18000., 33200., ...,     0., 25400., 26100.])"
      ]
     },
     "execution_count": 186,
     "metadata": {},
     "output_type": "execute_result"
    }
   ],
   "source": [
    "test_predictions1"
   ]
  },
  {
   "cell_type": "code",
   "execution_count": 178,
   "metadata": {},
   "outputs": [],
   "source": [
    "solution = pd.DataFrame(test_predictions1)\n",
    "solution.to_csv('predictions.csv')"
   ]
  }
 ],
 "metadata": {
  "kernelspec": {
   "display_name": "Python 3",
   "language": "python",
   "name": "python3"
  },
  "language_info": {
   "codemirror_mode": {
    "name": "ipython",
    "version": 3
   },
   "file_extension": ".py",
   "mimetype": "text/x-python",
   "name": "python",
   "nbconvert_exporter": "python",
   "pygments_lexer": "ipython3",
   "version": "3.5.2"
  }
 },
 "nbformat": 4,
 "nbformat_minor": 2
}
